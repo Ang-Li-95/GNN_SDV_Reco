{
 "cells": [
  {
   "cell_type": "code",
   "execution_count": 1,
   "id": "5e1eb0a8-8818-4134-b06f-e0f6080c3b50",
   "metadata": {},
   "outputs": [
    {
     "name": "stderr",
     "output_type": "stream",
     "text": [
      "/users/ang.li/anaconda3/envs/exatrkx-cpu/lib/python3.9/site-packages/tqdm/auto.py:21: TqdmWarning: IProgress not found. Please update jupyter and ipywidgets. See https://ipywidgets.readthedocs.io/en/stable/user_install.html\n",
      "  from .autonotebook import tqdm as notebook_tqdm\n",
      "INFO:Created a temporary directory at /tmp/tmpufbv1nsk\n",
      "INFO:Writing /tmp/tmpufbv1nsk/_remote_module_non_scriptable.py\n",
      "INFO:Loading faiss with AVX512 support.\n",
      "INFO:Successfully loaded faiss with AVX512 support.\n"
     ]
    }
   ],
   "source": [
    "import sys\n",
    "import os\n",
    "import yaml\n",
    "import argparse\n",
    "import logging\n",
    "logging.basicConfig(level=logging.INFO, format='%(levelname)s:%(message)s')\n",
    "\n",
    "from pytorch_lightning import Trainer\n",
    "from pytorch_lightning.loggers import CSVLogger\n",
    "import torch\n",
    "\n",
    "from Networks.GNN.InteractionNetwork import InteractionNetwork"
   ]
  },
  {
   "cell_type": "code",
   "execution_count": 2,
   "id": "c6cd5052-7f2f-4375-96b7-5ee81bee92f1",
   "metadata": {},
   "outputs": [],
   "source": [
    "# Load config file\n",
    "with open('gnn_config.yaml') as c:\n",
    "    cl = yaml.load(c, Loader=yaml.FullLoader)\n",
    "    config = cl['gnn_learning_configs']"
   ]
  },
  {
   "cell_type": "code",
   "execution_count": 3,
   "id": "12d61948-a0f0-4c2a-a3b4-d72c61a4f8a5",
   "metadata": {},
   "outputs": [],
   "source": [
    "model = InteractionNetwork(config)"
   ]
  },
  {
   "cell_type": "code",
   "execution_count": 4,
   "id": "b19da91c-2f49-4ab8-8d60-9c48fb52f7e6",
   "metadata": {},
   "outputs": [
    {
     "name": "stderr",
     "output_type": "stream",
     "text": [
      "/users/ang.li/anaconda3/envs/exatrkx-cpu/lib/python3.9/site-packages/lightning_fabric/plugins/environments/slurm.py:166: PossibleUserWarning: The `srun` command is available on your system but is not used. HINT: If your intention is to run Lightning on SLURM, prepend your python command with `srun` like so: srun python /users/ang.li/anaconda3/envs/exatrkx-cpu/lib/python3 ...\n",
      "  rank_zero_warn(\n",
      "INFO:GPU available: False, used: False\n",
      "INFO:TPU available: False, using: 0 TPU cores\n",
      "INFO:IPU available: False, using: 0 IPUs\n",
      "INFO:HPU available: False, using: 0 HPUs\n"
     ]
    }
   ],
   "source": [
    "save_directory = os.path.join(\"GNN_out\")\n",
    "os.makedirs(save_directory, exist_ok=True)\n",
    "logger = CSVLogger(save_directory, name='testrun')\n",
    "trainer = Trainer(\n",
    "    accelerator='gpu' if torch.cuda.is_available() else None,\n",
    "    max_epochs=config[\"max_epochs\"],\n",
    "    logger=logger\n",
    ")"
   ]
  },
  {
   "cell_type": "code",
   "execution_count": 5,
   "id": "82e4504f-6fa5-4c3a-8589-b3fcc8a45f29",
   "metadata": {},
   "outputs": [
    {
     "name": "stderr",
     "output_type": "stream",
     "text": [
      "INFO:\n",
      "  | Name                | Type       | Params\n",
      "---------------------------------------------------\n",
      "0 | node_encoder        | Sequential | 34.7 K\n",
      "1 | edge_encoder        | Sequential | 35.5 K\n",
      "2 | node_update         | Sequential | 35.5 K\n",
      "3 | edge_update         | Sequential | 36.0 K\n",
      "4 | edge_classification | Sequential | 35.6 K\n",
      "---------------------------------------------------\n",
      "177 K     Trainable params\n",
      "0         Non-trainable params\n",
      "177 K     Total params\n",
      "0.709     Total estimated model params size (MB)\n"
     ]
    },
    {
     "name": "stdout",
     "output_type": "stream",
     "text": [
      "Sanity Checking DataLoader 0:   0%|                                                                     | 0/2 [00:00<?, ?it/s]"
     ]
    },
    {
     "name": "stderr",
     "output_type": "stream",
     "text": [
      "/users/ang.li/public/SoftDV/ML/GNN_SDV_Reco/Networks/GNN/gnn_base.py:124: UserWarning: To copy construct from a tensor, it is recommended to use sourceTensor.clone().detach() or sourceTensor.clone().detach().requires_grad_(True), rather than torch.tensor(sourceTensor).\n",
      "  pos_weight = torch.tensor((~input_d['edges_y'].bool()).sum() / input_d['edges_y'].sum() )\n"
     ]
    },
    {
     "name": "stdout",
     "output_type": "stream",
     "text": [
      "                                                                                                                              "
     ]
    },
    {
     "name": "stderr",
     "output_type": "stream",
     "text": [
      "/users/ang.li/public/SoftDV/ML/GNN_SDV_Reco/Networks/GNN/gnn_base.py:124: UserWarning: To copy construct from a tensor, it is recommended to use sourceTensor.clone().detach() or sourceTensor.clone().detach().requires_grad_(True), rather than torch.tensor(sourceTensor).\n",
      "  pos_weight = torch.tensor((~input_d['edges_y'].bool()).sum() / input_d['edges_y'].sum() )\n"
     ]
    },
    {
     "name": "stdout",
     "output_type": "stream",
     "text": [
      "Epoch 0:   0%|                                                          | 2/1092 [00:00<03:57,  4.58it/s, loss=1.39, v_num=12]"
     ]
    },
    {
     "name": "stderr",
     "output_type": "stream",
     "text": [
      "/users/ang.li/public/SoftDV/ML/GNN_SDV_Reco/Networks/GNN/gnn_base.py:105: UserWarning: To copy construct from a tensor, it is recommended to use sourceTensor.clone().detach() or sourceTensor.clone().detach().requires_grad_(True), rather than torch.tensor(sourceTensor).\n",
      "  pos_weight = torch.tensor((~input_d['edges_y'].bool()).sum() / input_d['edges_y'].sum() )\n"
     ]
    },
    {
     "name": "stdout",
     "output_type": "stream",
     "text": [
      "Epoch 0:  92%|██████████████████████████████████████████████████▎    | 1000/1092 [00:50<00:04, 19.67it/s, loss=1.31, v_num=12]\n",
      "Validation: 0it [00:00, ?it/s]\u001b[A\n",
      "Validation:   0%|                                                                                      | 0/92 [00:00<?, ?it/s]\u001b[A\n",
      "Validation DataLoader 0:   0%|                                                                         | 0/92 [00:00<?, ?it/s]\u001b[A\n",
      "Epoch 0:  92%|██████████████████████████████████████████████████▍    | 1001/1092 [00:51<00:04, 19.50it/s, loss=1.31, v_num=12]\u001b[A\n",
      "Epoch 0:  92%|██████████████████████████████████████████████████▍    | 1002/1092 [00:51<00:04, 19.49it/s, loss=1.31, v_num=12]\u001b[A\n",
      "Epoch 0:  92%|██████████████████████████████████████████████████▌    | 1003/1092 [00:51<00:04, 19.50it/s, loss=1.31, v_num=12]\u001b[A\n",
      "Epoch 0:  92%|██████████████████████████████████████████████████▌    | 1004/1092 [00:51<00:04, 19.52it/s, loss=1.31, v_num=12]\u001b[A"
     ]
    },
    {
     "name": "stderr",
     "output_type": "stream",
     "text": [
      "/users/ang.li/public/SoftDV/ML/GNN_SDV_Reco/Networks/GNN/gnn_base.py:124: UserWarning: To copy construct from a tensor, it is recommended to use sourceTensor.clone().detach() or sourceTensor.clone().detach().requires_grad_(True), rather than torch.tensor(sourceTensor).\n",
      "  pos_weight = torch.tensor((~input_d['edges_y'].bool()).sum() / input_d['edges_y'].sum() )\n",
      "/users/ang.li/public/SoftDV/ML/GNN_SDV_Reco/Networks/GNN/gnn_base.py:124: UserWarning: To copy construct from a tensor, it is recommended to use sourceTensor.clone().detach() or sourceTensor.clone().detach().requires_grad_(True), rather than torch.tensor(sourceTensor).\n",
      "  pos_weight = torch.tensor((~input_d['edges_y'].bool()).sum() / input_d['edges_y'].sum() )\n",
      "/users/ang.li/public/SoftDV/ML/GNN_SDV_Reco/Networks/GNN/gnn_base.py:124: UserWarning: To copy construct from a tensor, it is recommended to use sourceTensor.clone().detach() or sourceTensor.clone().detach().requires_grad_(True), rather than torch.tensor(sourceTensor).\n",
      "  pos_weight = torch.tensor((~input_d['edges_y'].bool()).sum() / input_d['edges_y'].sum() )\n",
      "/users/ang.li/public/SoftDV/ML/GNN_SDV_Reco/Networks/GNN/gnn_base.py:124: UserWarning: To copy construct from a tensor, it is recommended to use sourceTensor.clone().detach() or sourceTensor.clone().detach().requires_grad_(True), rather than torch.tensor(sourceTensor).\n",
      "  pos_weight = torch.tensor((~input_d['edges_y'].bool()).sum() / input_d['edges_y'].sum() )\n",
      "/users/ang.li/public/SoftDV/ML/GNN_SDV_Reco/Networks/GNN/gnn_base.py:124: UserWarning: To copy construct from a tensor, it is recommended to use sourceTensor.clone().detach() or sourceTensor.clone().detach().requires_grad_(True), rather than torch.tensor(sourceTensor).\n",
      "  pos_weight = torch.tensor((~input_d['edges_y'].bool()).sum() / input_d['edges_y'].sum() )\n"
     ]
    },
    {
     "name": "stdout",
     "output_type": "stream",
     "text": [
      "\n",
      "Epoch 0:  92%|██████████████████████████████████████████████████▌    | 1005/1092 [00:51<00:04, 19.52it/s, loss=1.31, v_num=12]\u001b[A\n",
      "Epoch 0:  92%|██████████████████████████████████████████████████▋    | 1006/1092 [00:51<00:04, 19.53it/s, loss=1.31, v_num=12]\u001b[A\n",
      "Epoch 0:  92%|██████████████████████████████████████████████████▋    | 1007/1092 [00:51<00:04, 19.54it/s, loss=1.31, v_num=12]\u001b[A\n",
      "Epoch 0:  92%|██████████████████████████████████████████████████▊    | 1008/1092 [00:51<00:04, 19.55it/s, loss=1.31, v_num=12]\u001b[A\n",
      "Epoch 0:  92%|██████████████████████████████████████████████████▊    | 1009/1092 [00:51<00:04, 19.57it/s, loss=1.31, v_num=12]\u001b[A\n",
      "Epoch 0:  92%|██████████████████████████████████████████████████▊    | 1010/1092 [00:51<00:04, 19.58it/s, loss=1.31, v_num=12]\u001b[A\n",
      "Epoch 0:  93%|██████████████████████████████████████████████████▉    | 1011/1092 [00:51<00:04, 19.58it/s, loss=1.31, v_num=12]\u001b[A\n",
      "Epoch 0:  93%|██████████████████████████████████████████████████▉    | 1012/1092 [00:51<00:04, 19.59it/s, loss=1.31, v_num=12]\u001b[A\n",
      "Epoch 0:  93%|███████████████████████████████████████████████████    | 1013/1092 [00:51<00:04, 19.61it/s, loss=1.31, v_num=12]\u001b[A"
     ]
    },
    {
     "name": "stderr",
     "output_type": "stream",
     "text": [
      "/users/ang.li/public/SoftDV/ML/GNN_SDV_Reco/Networks/GNN/gnn_base.py:124: UserWarning: To copy construct from a tensor, it is recommended to use sourceTensor.clone().detach() or sourceTensor.clone().detach().requires_grad_(True), rather than torch.tensor(sourceTensor).\n",
      "  pos_weight = torch.tensor((~input_d['edges_y'].bool()).sum() / input_d['edges_y'].sum() )\n",
      "/users/ang.li/public/SoftDV/ML/GNN_SDV_Reco/Networks/GNN/gnn_base.py:124: UserWarning: To copy construct from a tensor, it is recommended to use sourceTensor.clone().detach() or sourceTensor.clone().detach().requires_grad_(True), rather than torch.tensor(sourceTensor).\n",
      "  pos_weight = torch.tensor((~input_d['edges_y'].bool()).sum() / input_d['edges_y'].sum() )\n",
      "/users/ang.li/public/SoftDV/ML/GNN_SDV_Reco/Networks/GNN/gnn_base.py:124: UserWarning: To copy construct from a tensor, it is recommended to use sourceTensor.clone().detach() or sourceTensor.clone().detach().requires_grad_(True), rather than torch.tensor(sourceTensor).\n",
      "  pos_weight = torch.tensor((~input_d['edges_y'].bool()).sum() / input_d['edges_y'].sum() )\n",
      "/users/ang.li/public/SoftDV/ML/GNN_SDV_Reco/Networks/GNN/gnn_base.py:124: UserWarning: To copy construct from a tensor, it is recommended to use sourceTensor.clone().detach() or sourceTensor.clone().detach().requires_grad_(True), rather than torch.tensor(sourceTensor).\n",
      "  pos_weight = torch.tensor((~input_d['edges_y'].bool()).sum() / input_d['edges_y'].sum() )\n",
      "/users/ang.li/public/SoftDV/ML/GNN_SDV_Reco/Networks/GNN/gnn_base.py:124: UserWarning: To copy construct from a tensor, it is recommended to use sourceTensor.clone().detach() or sourceTensor.clone().detach().requires_grad_(True), rather than torch.tensor(sourceTensor).\n",
      "  pos_weight = torch.tensor((~input_d['edges_y'].bool()).sum() / input_d['edges_y'].sum() )\n",
      "/users/ang.li/public/SoftDV/ML/GNN_SDV_Reco/Networks/GNN/gnn_base.py:124: UserWarning: To copy construct from a tensor, it is recommended to use sourceTensor.clone().detach() or sourceTensor.clone().detach().requires_grad_(True), rather than torch.tensor(sourceTensor).\n",
      "  pos_weight = torch.tensor((~input_d['edges_y'].bool()).sum() / input_d['edges_y'].sum() )\n",
      "/users/ang.li/public/SoftDV/ML/GNN_SDV_Reco/Networks/GNN/gnn_base.py:124: UserWarning: To copy construct from a tensor, it is recommended to use sourceTensor.clone().detach() or sourceTensor.clone().detach().requires_grad_(True), rather than torch.tensor(sourceTensor).\n",
      "  pos_weight = torch.tensor((~input_d['edges_y'].bool()).sum() / input_d['edges_y'].sum() )\n",
      "/users/ang.li/public/SoftDV/ML/GNN_SDV_Reco/Networks/GNN/gnn_base.py:124: UserWarning: To copy construct from a tensor, it is recommended to use sourceTensor.clone().detach() or sourceTensor.clone().detach().requires_grad_(True), rather than torch.tensor(sourceTensor).\n",
      "  pos_weight = torch.tensor((~input_d['edges_y'].bool()).sum() / input_d['edges_y'].sum() )\n",
      "/users/ang.li/public/SoftDV/ML/GNN_SDV_Reco/Networks/GNN/gnn_base.py:124: UserWarning: To copy construct from a tensor, it is recommended to use sourceTensor.clone().detach() or sourceTensor.clone().detach().requires_grad_(True), rather than torch.tensor(sourceTensor).\n",
      "  pos_weight = torch.tensor((~input_d['edges_y'].bool()).sum() / input_d['edges_y'].sum() )\n"
     ]
    },
    {
     "name": "stdout",
     "output_type": "stream",
     "text": [
      "\n",
      "Epoch 0:  93%|███████████████████████████████████████████████████    | 1014/1092 [00:51<00:03, 19.62it/s, loss=1.31, v_num=12]\u001b[A\n",
      "Epoch 0:  93%|███████████████████████████████████████████████████    | 1015/1092 [00:51<00:03, 19.63it/s, loss=1.31, v_num=12]\u001b[A\n",
      "Epoch 0:  93%|███████████████████████████████████████████████████▏   | 1016/1092 [00:51<00:03, 19.63it/s, loss=1.31, v_num=12]\u001b[A\n",
      "Epoch 0:  93%|███████████████████████████████████████████████████▏   | 1017/1092 [00:51<00:03, 19.64it/s, loss=1.31, v_num=12]\u001b[A\n",
      "Epoch 0:  93%|███████████████████████████████████████████████████▎   | 1018/1092 [00:51<00:03, 19.65it/s, loss=1.31, v_num=12]\u001b[A\n",
      "Epoch 0:  93%|███████████████████████████████████████████████████▎   | 1019/1092 [00:51<00:03, 19.65it/s, loss=1.31, v_num=12]\u001b[A\n",
      "Epoch 0:  93%|███████████████████████████████████████████████████▎   | 1020/1092 [00:51<00:03, 19.67it/s, loss=1.31, v_num=12]\u001b[A\n",
      "Epoch 0:  93%|███████████████████████████████████████████████████▍   | 1021/1092 [00:51<00:03, 19.68it/s, loss=1.31, v_num=12]\u001b[A"
     ]
    },
    {
     "name": "stderr",
     "output_type": "stream",
     "text": [
      "/users/ang.li/public/SoftDV/ML/GNN_SDV_Reco/Networks/GNN/gnn_base.py:124: UserWarning: To copy construct from a tensor, it is recommended to use sourceTensor.clone().detach() or sourceTensor.clone().detach().requires_grad_(True), rather than torch.tensor(sourceTensor).\n",
      "  pos_weight = torch.tensor((~input_d['edges_y'].bool()).sum() / input_d['edges_y'].sum() )\n",
      "/users/ang.li/public/SoftDV/ML/GNN_SDV_Reco/Networks/GNN/gnn_base.py:124: UserWarning: To copy construct from a tensor, it is recommended to use sourceTensor.clone().detach() or sourceTensor.clone().detach().requires_grad_(True), rather than torch.tensor(sourceTensor).\n",
      "  pos_weight = torch.tensor((~input_d['edges_y'].bool()).sum() / input_d['edges_y'].sum() )\n",
      "/users/ang.li/public/SoftDV/ML/GNN_SDV_Reco/Networks/GNN/gnn_base.py:124: UserWarning: To copy construct from a tensor, it is recommended to use sourceTensor.clone().detach() or sourceTensor.clone().detach().requires_grad_(True), rather than torch.tensor(sourceTensor).\n",
      "  pos_weight = torch.tensor((~input_d['edges_y'].bool()).sum() / input_d['edges_y'].sum() )\n",
      "/users/ang.li/public/SoftDV/ML/GNN_SDV_Reco/Networks/GNN/gnn_base.py:124: UserWarning: To copy construct from a tensor, it is recommended to use sourceTensor.clone().detach() or sourceTensor.clone().detach().requires_grad_(True), rather than torch.tensor(sourceTensor).\n",
      "  pos_weight = torch.tensor((~input_d['edges_y'].bool()).sum() / input_d['edges_y'].sum() )\n",
      "/users/ang.li/public/SoftDV/ML/GNN_SDV_Reco/Networks/GNN/gnn_base.py:124: UserWarning: To copy construct from a tensor, it is recommended to use sourceTensor.clone().detach() or sourceTensor.clone().detach().requires_grad_(True), rather than torch.tensor(sourceTensor).\n",
      "  pos_weight = torch.tensor((~input_d['edges_y'].bool()).sum() / input_d['edges_y'].sum() )\n",
      "/users/ang.li/public/SoftDV/ML/GNN_SDV_Reco/Networks/GNN/gnn_base.py:124: UserWarning: To copy construct from a tensor, it is recommended to use sourceTensor.clone().detach() or sourceTensor.clone().detach().requires_grad_(True), rather than torch.tensor(sourceTensor).\n",
      "  pos_weight = torch.tensor((~input_d['edges_y'].bool()).sum() / input_d['edges_y'].sum() )\n",
      "/users/ang.li/public/SoftDV/ML/GNN_SDV_Reco/Networks/GNN/gnn_base.py:124: UserWarning: To copy construct from a tensor, it is recommended to use sourceTensor.clone().detach() or sourceTensor.clone().detach().requires_grad_(True), rather than torch.tensor(sourceTensor).\n",
      "  pos_weight = torch.tensor((~input_d['edges_y'].bool()).sum() / input_d['edges_y'].sum() )\n",
      "/users/ang.li/public/SoftDV/ML/GNN_SDV_Reco/Networks/GNN/gnn_base.py:124: UserWarning: To copy construct from a tensor, it is recommended to use sourceTensor.clone().detach() or sourceTensor.clone().detach().requires_grad_(True), rather than torch.tensor(sourceTensor).\n",
      "  pos_weight = torch.tensor((~input_d['edges_y'].bool()).sum() / input_d['edges_y'].sum() )\n"
     ]
    },
    {
     "name": "stdout",
     "output_type": "stream",
     "text": [
      "\n",
      "Epoch 0:  94%|███████████████████████████████████████████████████▍   | 1022/1092 [00:51<00:03, 19.69it/s, loss=1.31, v_num=12]\u001b[A\n",
      "Epoch 0:  94%|███████████████████████████████████████████████████▌   | 1023/1092 [00:51<00:03, 19.70it/s, loss=1.31, v_num=12]\u001b[A\n",
      "Epoch 0:  94%|███████████████████████████████████████████████████▌   | 1024/1092 [00:51<00:03, 19.71it/s, loss=1.31, v_num=12]\u001b[A\n",
      "Epoch 0:  94%|███████████████████████████████████████████████████▋   | 1025/1092 [00:51<00:03, 19.72it/s, loss=1.31, v_num=12]\u001b[A\n",
      "Epoch 0:  94%|███████████████████████████████████████████████████▋   | 1026/1092 [00:51<00:03, 19.73it/s, loss=1.31, v_num=12]\u001b[A\n",
      "Epoch 0:  94%|███████████████████████████████████████████████████▋   | 1027/1092 [00:52<00:03, 19.75it/s, loss=1.31, v_num=12]\u001b[A\n",
      "Epoch 0:  94%|███████████████████████████████████████████████████▊   | 1028/1092 [00:52<00:03, 19.76it/s, loss=1.31, v_num=12]\u001b[A\n",
      "Epoch 0:  94%|███████████████████████████████████████████████████▊   | 1029/1092 [00:52<00:03, 19.77it/s, loss=1.31, v_num=12]\u001b[A\n",
      "Epoch 0:  94%|███████████████████████████████████████████████████▉   | 1030/1092 [00:52<00:03, 19.78it/s, loss=1.31, v_num=12]\u001b[A\n",
      "Epoch 0:  94%|███████████████████████████████████████████████████▉   | 1031/1092 [00:52<00:03, 19.80it/s, loss=1.31, v_num=12]\u001b[A\n"
     ]
    },
    {
     "name": "stderr",
     "output_type": "stream",
     "text": [
      "/users/ang.li/public/SoftDV/ML/GNN_SDV_Reco/Networks/GNN/gnn_base.py:124: UserWarning: To copy construct from a tensor, it is recommended to use sourceTensor.clone().detach() or sourceTensor.clone().detach().requires_grad_(True), rather than torch.tensor(sourceTensor).\n",
      "  pos_weight = torch.tensor((~input_d['edges_y'].bool()).sum() / input_d['edges_y'].sum() )\n",
      "/users/ang.li/public/SoftDV/ML/GNN_SDV_Reco/Networks/GNN/gnn_base.py:124: UserWarning: To copy construct from a tensor, it is recommended to use sourceTensor.clone().detach() or sourceTensor.clone().detach().requires_grad_(True), rather than torch.tensor(sourceTensor).\n",
      "  pos_weight = torch.tensor((~input_d['edges_y'].bool()).sum() / input_d['edges_y'].sum() )\n",
      "/users/ang.li/public/SoftDV/ML/GNN_SDV_Reco/Networks/GNN/gnn_base.py:124: UserWarning: To copy construct from a tensor, it is recommended to use sourceTensor.clone().detach() or sourceTensor.clone().detach().requires_grad_(True), rather than torch.tensor(sourceTensor).\n",
      "  pos_weight = torch.tensor((~input_d['edges_y'].bool()).sum() / input_d['edges_y'].sum() )\n",
      "/users/ang.li/public/SoftDV/ML/GNN_SDV_Reco/Networks/GNN/gnn_base.py:124: UserWarning: To copy construct from a tensor, it is recommended to use sourceTensor.clone().detach() or sourceTensor.clone().detach().requires_grad_(True), rather than torch.tensor(sourceTensor).\n",
      "  pos_weight = torch.tensor((~input_d['edges_y'].bool()).sum() / input_d['edges_y'].sum() )\n",
      "/users/ang.li/public/SoftDV/ML/GNN_SDV_Reco/Networks/GNN/gnn_base.py:124: UserWarning: To copy construct from a tensor, it is recommended to use sourceTensor.clone().detach() or sourceTensor.clone().detach().requires_grad_(True), rather than torch.tensor(sourceTensor).\n",
      "  pos_weight = torch.tensor((~input_d['edges_y'].bool()).sum() / input_d['edges_y'].sum() )\n",
      "/users/ang.li/public/SoftDV/ML/GNN_SDV_Reco/Networks/GNN/gnn_base.py:124: UserWarning: To copy construct from a tensor, it is recommended to use sourceTensor.clone().detach() or sourceTensor.clone().detach().requires_grad_(True), rather than torch.tensor(sourceTensor).\n",
      "  pos_weight = torch.tensor((~input_d['edges_y'].bool()).sum() / input_d['edges_y'].sum() )\n",
      "/users/ang.li/public/SoftDV/ML/GNN_SDV_Reco/Networks/GNN/gnn_base.py:124: UserWarning: To copy construct from a tensor, it is recommended to use sourceTensor.clone().detach() or sourceTensor.clone().detach().requires_grad_(True), rather than torch.tensor(sourceTensor).\n",
      "  pos_weight = torch.tensor((~input_d['edges_y'].bool()).sum() / input_d['edges_y'].sum() )\n",
      "/users/ang.li/public/SoftDV/ML/GNN_SDV_Reco/Networks/GNN/gnn_base.py:124: UserWarning: To copy construct from a tensor, it is recommended to use sourceTensor.clone().detach() or sourceTensor.clone().detach().requires_grad_(True), rather than torch.tensor(sourceTensor).\n",
      "  pos_weight = torch.tensor((~input_d['edges_y'].bool()).sum() / input_d['edges_y'].sum() )\n",
      "/users/ang.li/public/SoftDV/ML/GNN_SDV_Reco/Networks/GNN/gnn_base.py:124: UserWarning: To copy construct from a tensor, it is recommended to use sourceTensor.clone().detach() or sourceTensor.clone().detach().requires_grad_(True), rather than torch.tensor(sourceTensor).\n",
      "  pos_weight = torch.tensor((~input_d['edges_y'].bool()).sum() / input_d['edges_y'].sum() )\n",
      "/users/ang.li/public/SoftDV/ML/GNN_SDV_Reco/Networks/GNN/gnn_base.py:124: UserWarning: To copy construct from a tensor, it is recommended to use sourceTensor.clone().detach() or sourceTensor.clone().detach().requires_grad_(True), rather than torch.tensor(sourceTensor).\n",
      "  pos_weight = torch.tensor((~input_d['edges_y'].bool()).sum() / input_d['edges_y'].sum() )\n"
     ]
    },
    {
     "name": "stdout",
     "output_type": "stream",
     "text": [
      "Epoch 0:  95%|███████████████████████████████████████████████████▉   | 1032/1092 [00:52<00:03, 19.81it/s, loss=1.31, v_num=12]\u001b[A\n",
      "Epoch 0:  95%|████████████████████████████████████████████████████   | 1033/1092 [00:52<00:02, 19.82it/s, loss=1.31, v_num=12]\u001b[A\n",
      "Epoch 0:  95%|████████████████████████████████████████████████████   | 1034/1092 [00:52<00:02, 19.83it/s, loss=1.31, v_num=12]\u001b[A\n",
      "Epoch 0:  95%|████████████████████████████████████████████████████▏  | 1035/1092 [00:52<00:02, 19.84it/s, loss=1.31, v_num=12]\u001b[A\n",
      "Epoch 0:  95%|████████████████████████████████████████████████████▏  | 1036/1092 [00:52<00:02, 19.84it/s, loss=1.31, v_num=12]\u001b[A\n",
      "Epoch 0:  95%|████████████████████████████████████████████████████▏  | 1037/1092 [00:52<00:02, 19.86it/s, loss=1.31, v_num=12]\u001b[A\n",
      "Epoch 0:  95%|████████████████████████████████████████████████████▎  | 1038/1092 [00:52<00:02, 19.87it/s, loss=1.31, v_num=12]\u001b[A\n",
      "Epoch 0:  95%|████████████████████████████████████████████████████▎  | 1039/1092 [00:52<00:02, 19.88it/s, loss=1.31, v_num=12]\u001b[A\n",
      "Epoch 0:  95%|████████████████████████████████████████████████████▍  | 1040/1092 [00:52<00:02, 19.89it/s, loss=1.31, v_num=12]\u001b[A"
     ]
    },
    {
     "name": "stderr",
     "output_type": "stream",
     "text": [
      "/users/ang.li/public/SoftDV/ML/GNN_SDV_Reco/Networks/GNN/gnn_base.py:124: UserWarning: To copy construct from a tensor, it is recommended to use sourceTensor.clone().detach() or sourceTensor.clone().detach().requires_grad_(True), rather than torch.tensor(sourceTensor).\n",
      "  pos_weight = torch.tensor((~input_d['edges_y'].bool()).sum() / input_d['edges_y'].sum() )\n",
      "/users/ang.li/public/SoftDV/ML/GNN_SDV_Reco/Networks/GNN/gnn_base.py:124: UserWarning: To copy construct from a tensor, it is recommended to use sourceTensor.clone().detach() or sourceTensor.clone().detach().requires_grad_(True), rather than torch.tensor(sourceTensor).\n",
      "  pos_weight = torch.tensor((~input_d['edges_y'].bool()).sum() / input_d['edges_y'].sum() )\n",
      "/users/ang.li/public/SoftDV/ML/GNN_SDV_Reco/Networks/GNN/gnn_base.py:124: UserWarning: To copy construct from a tensor, it is recommended to use sourceTensor.clone().detach() or sourceTensor.clone().detach().requires_grad_(True), rather than torch.tensor(sourceTensor).\n",
      "  pos_weight = torch.tensor((~input_d['edges_y'].bool()).sum() / input_d['edges_y'].sum() )\n",
      "/users/ang.li/public/SoftDV/ML/GNN_SDV_Reco/Networks/GNN/gnn_base.py:124: UserWarning: To copy construct from a tensor, it is recommended to use sourceTensor.clone().detach() or sourceTensor.clone().detach().requires_grad_(True), rather than torch.tensor(sourceTensor).\n",
      "  pos_weight = torch.tensor((~input_d['edges_y'].bool()).sum() / input_d['edges_y'].sum() )\n",
      "/users/ang.li/public/SoftDV/ML/GNN_SDV_Reco/Networks/GNN/gnn_base.py:124: UserWarning: To copy construct from a tensor, it is recommended to use sourceTensor.clone().detach() or sourceTensor.clone().detach().requires_grad_(True), rather than torch.tensor(sourceTensor).\n",
      "  pos_weight = torch.tensor((~input_d['edges_y'].bool()).sum() / input_d['edges_y'].sum() )\n",
      "/users/ang.li/public/SoftDV/ML/GNN_SDV_Reco/Networks/GNN/gnn_base.py:124: UserWarning: To copy construct from a tensor, it is recommended to use sourceTensor.clone().detach() or sourceTensor.clone().detach().requires_grad_(True), rather than torch.tensor(sourceTensor).\n",
      "  pos_weight = torch.tensor((~input_d['edges_y'].bool()).sum() / input_d['edges_y'].sum() )\n",
      "/users/ang.li/public/SoftDV/ML/GNN_SDV_Reco/Networks/GNN/gnn_base.py:124: UserWarning: To copy construct from a tensor, it is recommended to use sourceTensor.clone().detach() or sourceTensor.clone().detach().requires_grad_(True), rather than torch.tensor(sourceTensor).\n",
      "  pos_weight = torch.tensor((~input_d['edges_y'].bool()).sum() / input_d['edges_y'].sum() )\n",
      "/users/ang.li/public/SoftDV/ML/GNN_SDV_Reco/Networks/GNN/gnn_base.py:124: UserWarning: To copy construct from a tensor, it is recommended to use sourceTensor.clone().detach() or sourceTensor.clone().detach().requires_grad_(True), rather than torch.tensor(sourceTensor).\n",
      "  pos_weight = torch.tensor((~input_d['edges_y'].bool()).sum() / input_d['edges_y'].sum() )\n",
      "/users/ang.li/public/SoftDV/ML/GNN_SDV_Reco/Networks/GNN/gnn_base.py:124: UserWarning: To copy construct from a tensor, it is recommended to use sourceTensor.clone().detach() or sourceTensor.clone().detach().requires_grad_(True), rather than torch.tensor(sourceTensor).\n",
      "  pos_weight = torch.tensor((~input_d['edges_y'].bool()).sum() / input_d['edges_y'].sum() )\n"
     ]
    },
    {
     "name": "stdout",
     "output_type": "stream",
     "text": [
      "\n",
      "Epoch 0:  95%|████████████████████████████████████████████████████▍  | 1041/1092 [00:52<00:02, 19.89it/s, loss=1.31, v_num=12]\u001b[A\n",
      "Epoch 0:  95%|████████████████████████████████████████████████████▍  | 1042/1092 [00:52<00:02, 19.89it/s, loss=1.31, v_num=12]\u001b[A\n",
      "Epoch 0:  96%|████████████████████████████████████████████████████▌  | 1043/1092 [00:52<00:02, 19.90it/s, loss=1.31, v_num=12]\u001b[A\n",
      "Epoch 0:  96%|████████████████████████████████████████████████████▌  | 1044/1092 [00:52<00:02, 19.91it/s, loss=1.31, v_num=12]\u001b[A\n",
      "Epoch 0:  96%|████████████████████████████████████████████████████▋  | 1045/1092 [00:52<00:02, 19.91it/s, loss=1.31, v_num=12]\u001b[A\n",
      "Epoch 0:  96%|████████████████████████████████████████████████████▋  | 1046/1092 [00:52<00:02, 19.92it/s, loss=1.31, v_num=12]\u001b[A"
     ]
    },
    {
     "name": "stderr",
     "output_type": "stream",
     "text": [
      "/users/ang.li/public/SoftDV/ML/GNN_SDV_Reco/Networks/GNN/gnn_base.py:124: UserWarning: To copy construct from a tensor, it is recommended to use sourceTensor.clone().detach() or sourceTensor.clone().detach().requires_grad_(True), rather than torch.tensor(sourceTensor).\n",
      "  pos_weight = torch.tensor((~input_d['edges_y'].bool()).sum() / input_d['edges_y'].sum() )\n",
      "/users/ang.li/public/SoftDV/ML/GNN_SDV_Reco/Networks/GNN/gnn_base.py:124: UserWarning: To copy construct from a tensor, it is recommended to use sourceTensor.clone().detach() or sourceTensor.clone().detach().requires_grad_(True), rather than torch.tensor(sourceTensor).\n",
      "  pos_weight = torch.tensor((~input_d['edges_y'].bool()).sum() / input_d['edges_y'].sum() )\n",
      "/users/ang.li/public/SoftDV/ML/GNN_SDV_Reco/Networks/GNN/gnn_base.py:124: UserWarning: To copy construct from a tensor, it is recommended to use sourceTensor.clone().detach() or sourceTensor.clone().detach().requires_grad_(True), rather than torch.tensor(sourceTensor).\n",
      "  pos_weight = torch.tensor((~input_d['edges_y'].bool()).sum() / input_d['edges_y'].sum() )\n",
      "/users/ang.li/public/SoftDV/ML/GNN_SDV_Reco/Networks/GNN/gnn_base.py:124: UserWarning: To copy construct from a tensor, it is recommended to use sourceTensor.clone().detach() or sourceTensor.clone().detach().requires_grad_(True), rather than torch.tensor(sourceTensor).\n",
      "  pos_weight = torch.tensor((~input_d['edges_y'].bool()).sum() / input_d['edges_y'].sum() )\n",
      "/users/ang.li/public/SoftDV/ML/GNN_SDV_Reco/Networks/GNN/gnn_base.py:124: UserWarning: To copy construct from a tensor, it is recommended to use sourceTensor.clone().detach() or sourceTensor.clone().detach().requires_grad_(True), rather than torch.tensor(sourceTensor).\n",
      "  pos_weight = torch.tensor((~input_d['edges_y'].bool()).sum() / input_d['edges_y'].sum() )\n",
      "/users/ang.li/public/SoftDV/ML/GNN_SDV_Reco/Networks/GNN/gnn_base.py:124: UserWarning: To copy construct from a tensor, it is recommended to use sourceTensor.clone().detach() or sourceTensor.clone().detach().requires_grad_(True), rather than torch.tensor(sourceTensor).\n",
      "  pos_weight = torch.tensor((~input_d['edges_y'].bool()).sum() / input_d['edges_y'].sum() )\n"
     ]
    },
    {
     "name": "stdout",
     "output_type": "stream",
     "text": [
      "\n",
      "Epoch 0:  96%|████████████████████████████████████████████████████▋  | 1047/1092 [00:52<00:02, 19.92it/s, loss=1.31, v_num=12]\u001b[A\n",
      "Epoch 0:  96%|████████████████████████████████████████████████████▊  | 1048/1092 [00:52<00:02, 19.93it/s, loss=1.31, v_num=12]\u001b[A\n",
      "Epoch 0:  96%|████████████████████████████████████████████████████▊  | 1049/1092 [00:52<00:02, 19.94it/s, loss=1.31, v_num=12]\u001b[A\n",
      "Epoch 0:  96%|████████████████████████████████████████████████████▉  | 1050/1092 [00:52<00:02, 19.95it/s, loss=1.31, v_num=12]\u001b[A\n",
      "Epoch 0:  96%|████████████████████████████████████████████████████▉  | 1051/1092 [00:52<00:02, 19.96it/s, loss=1.31, v_num=12]\u001b[A\n",
      "Epoch 0:  96%|████████████████████████████████████████████████████▉  | 1052/1092 [00:52<00:02, 19.97it/s, loss=1.31, v_num=12]\u001b[A\n",
      "Epoch 0:  96%|█████████████████████████████████████████████████████  | 1053/1092 [00:52<00:01, 19.98it/s, loss=1.31, v_num=12]\u001b[A\n",
      "Epoch 0:  97%|█████████████████████████████████████████████████████  | 1054/1092 [00:52<00:01, 19.99it/s, loss=1.31, v_num=12]\u001b[A\n",
      "Epoch 0:  97%|█████████████████████████████████████████████████████▏ | 1055/1092 [00:52<00:01, 20.00it/s, loss=1.31, v_num=12]\u001b[A\n",
      "Epoch 0:  97%|█████████████████████████████████████████████████████▏ | 1056/1092 [00:52<00:01, 20.01it/s, loss=1.31, v_num=12]\u001b[A"
     ]
    },
    {
     "name": "stderr",
     "output_type": "stream",
     "text": [
      "/users/ang.li/public/SoftDV/ML/GNN_SDV_Reco/Networks/GNN/gnn_base.py:124: UserWarning: To copy construct from a tensor, it is recommended to use sourceTensor.clone().detach() or sourceTensor.clone().detach().requires_grad_(True), rather than torch.tensor(sourceTensor).\n",
      "  pos_weight = torch.tensor((~input_d['edges_y'].bool()).sum() / input_d['edges_y'].sum() )\n",
      "/users/ang.li/public/SoftDV/ML/GNN_SDV_Reco/Networks/GNN/gnn_base.py:124: UserWarning: To copy construct from a tensor, it is recommended to use sourceTensor.clone().detach() or sourceTensor.clone().detach().requires_grad_(True), rather than torch.tensor(sourceTensor).\n",
      "  pos_weight = torch.tensor((~input_d['edges_y'].bool()).sum() / input_d['edges_y'].sum() )\n",
      "/users/ang.li/public/SoftDV/ML/GNN_SDV_Reco/Networks/GNN/gnn_base.py:124: UserWarning: To copy construct from a tensor, it is recommended to use sourceTensor.clone().detach() or sourceTensor.clone().detach().requires_grad_(True), rather than torch.tensor(sourceTensor).\n",
      "  pos_weight = torch.tensor((~input_d['edges_y'].bool()).sum() / input_d['edges_y'].sum() )\n",
      "/users/ang.li/public/SoftDV/ML/GNN_SDV_Reco/Networks/GNN/gnn_base.py:124: UserWarning: To copy construct from a tensor, it is recommended to use sourceTensor.clone().detach() or sourceTensor.clone().detach().requires_grad_(True), rather than torch.tensor(sourceTensor).\n",
      "  pos_weight = torch.tensor((~input_d['edges_y'].bool()).sum() / input_d['edges_y'].sum() )\n",
      "/users/ang.li/public/SoftDV/ML/GNN_SDV_Reco/Networks/GNN/gnn_base.py:124: UserWarning: To copy construct from a tensor, it is recommended to use sourceTensor.clone().detach() or sourceTensor.clone().detach().requires_grad_(True), rather than torch.tensor(sourceTensor).\n",
      "  pos_weight = torch.tensor((~input_d['edges_y'].bool()).sum() / input_d['edges_y'].sum() )\n",
      "/users/ang.li/public/SoftDV/ML/GNN_SDV_Reco/Networks/GNN/gnn_base.py:124: UserWarning: To copy construct from a tensor, it is recommended to use sourceTensor.clone().detach() or sourceTensor.clone().detach().requires_grad_(True), rather than torch.tensor(sourceTensor).\n",
      "  pos_weight = torch.tensor((~input_d['edges_y'].bool()).sum() / input_d['edges_y'].sum() )\n",
      "/users/ang.li/public/SoftDV/ML/GNN_SDV_Reco/Networks/GNN/gnn_base.py:124: UserWarning: To copy construct from a tensor, it is recommended to use sourceTensor.clone().detach() or sourceTensor.clone().detach().requires_grad_(True), rather than torch.tensor(sourceTensor).\n",
      "  pos_weight = torch.tensor((~input_d['edges_y'].bool()).sum() / input_d['edges_y'].sum() )\n",
      "/users/ang.li/public/SoftDV/ML/GNN_SDV_Reco/Networks/GNN/gnn_base.py:124: UserWarning: To copy construct from a tensor, it is recommended to use sourceTensor.clone().detach() or sourceTensor.clone().detach().requires_grad_(True), rather than torch.tensor(sourceTensor).\n",
      "  pos_weight = torch.tensor((~input_d['edges_y'].bool()).sum() / input_d['edges_y'].sum() )\n",
      "/users/ang.li/public/SoftDV/ML/GNN_SDV_Reco/Networks/GNN/gnn_base.py:124: UserWarning: To copy construct from a tensor, it is recommended to use sourceTensor.clone().detach() or sourceTensor.clone().detach().requires_grad_(True), rather than torch.tensor(sourceTensor).\n",
      "  pos_weight = torch.tensor((~input_d['edges_y'].bool()).sum() / input_d['edges_y'].sum() )\n"
     ]
    },
    {
     "name": "stdout",
     "output_type": "stream",
     "text": [
      "\n",
      "Epoch 0:  97%|█████████████████████████████████████████████████████▏ | 1057/1092 [00:52<00:01, 20.02it/s, loss=1.31, v_num=12]\u001b[A\n",
      "Epoch 0:  97%|█████████████████████████████████████████████████████▎ | 1058/1092 [00:52<00:01, 20.03it/s, loss=1.31, v_num=12]\u001b[A\n",
      "Epoch 0:  97%|█████████████████████████████████████████████████████▎ | 1059/1092 [00:52<00:01, 20.04it/s, loss=1.31, v_num=12]\u001b[A\n",
      "Epoch 0:  97%|█████████████████████████████████████████████████████▍ | 1060/1092 [00:52<00:01, 20.05it/s, loss=1.31, v_num=12]\u001b[A\n",
      "Epoch 0:  97%|█████████████████████████████████████████████████████▍ | 1061/1092 [00:52<00:01, 20.06it/s, loss=1.31, v_num=12]\u001b[A\n",
      "Epoch 0:  97%|█████████████████████████████████████████████████████▍ | 1062/1092 [00:52<00:01, 20.07it/s, loss=1.31, v_num=12]\u001b[A\n",
      "Epoch 0:  97%|█████████████████████████████████████████████████████▌ | 1063/1092 [00:52<00:01, 20.08it/s, loss=1.31, v_num=12]\u001b[A\n",
      "Epoch 0:  97%|█████████████████████████████████████████████████████▌ | 1064/1092 [00:52<00:01, 20.10it/s, loss=1.31, v_num=12]\u001b[A\n",
      "Epoch 0:  98%|█████████████████████████████████████████████████████▋ | 1065/1092 [00:52<00:01, 20.11it/s, loss=1.31, v_num=12]\u001b[A\n"
     ]
    },
    {
     "name": "stderr",
     "output_type": "stream",
     "text": [
      "/users/ang.li/public/SoftDV/ML/GNN_SDV_Reco/Networks/GNN/gnn_base.py:124: UserWarning: To copy construct from a tensor, it is recommended to use sourceTensor.clone().detach() or sourceTensor.clone().detach().requires_grad_(True), rather than torch.tensor(sourceTensor).\n",
      "  pos_weight = torch.tensor((~input_d['edges_y'].bool()).sum() / input_d['edges_y'].sum() )\n",
      "/users/ang.li/public/SoftDV/ML/GNN_SDV_Reco/Networks/GNN/gnn_base.py:124: UserWarning: To copy construct from a tensor, it is recommended to use sourceTensor.clone().detach() or sourceTensor.clone().detach().requires_grad_(True), rather than torch.tensor(sourceTensor).\n",
      "  pos_weight = torch.tensor((~input_d['edges_y'].bool()).sum() / input_d['edges_y'].sum() )\n",
      "/users/ang.li/public/SoftDV/ML/GNN_SDV_Reco/Networks/GNN/gnn_base.py:124: UserWarning: To copy construct from a tensor, it is recommended to use sourceTensor.clone().detach() or sourceTensor.clone().detach().requires_grad_(True), rather than torch.tensor(sourceTensor).\n",
      "  pos_weight = torch.tensor((~input_d['edges_y'].bool()).sum() / input_d['edges_y'].sum() )\n",
      "/users/ang.li/public/SoftDV/ML/GNN_SDV_Reco/Networks/GNN/gnn_base.py:124: UserWarning: To copy construct from a tensor, it is recommended to use sourceTensor.clone().detach() or sourceTensor.clone().detach().requires_grad_(True), rather than torch.tensor(sourceTensor).\n",
      "  pos_weight = torch.tensor((~input_d['edges_y'].bool()).sum() / input_d['edges_y'].sum() )\n",
      "/users/ang.li/public/SoftDV/ML/GNN_SDV_Reco/Networks/GNN/gnn_base.py:124: UserWarning: To copy construct from a tensor, it is recommended to use sourceTensor.clone().detach() or sourceTensor.clone().detach().requires_grad_(True), rather than torch.tensor(sourceTensor).\n",
      "  pos_weight = torch.tensor((~input_d['edges_y'].bool()).sum() / input_d['edges_y'].sum() )\n",
      "/users/ang.li/public/SoftDV/ML/GNN_SDV_Reco/Networks/GNN/gnn_base.py:124: UserWarning: To copy construct from a tensor, it is recommended to use sourceTensor.clone().detach() or sourceTensor.clone().detach().requires_grad_(True), rather than torch.tensor(sourceTensor).\n",
      "  pos_weight = torch.tensor((~input_d['edges_y'].bool()).sum() / input_d['edges_y'].sum() )\n",
      "/users/ang.li/public/SoftDV/ML/GNN_SDV_Reco/Networks/GNN/gnn_base.py:124: UserWarning: To copy construct from a tensor, it is recommended to use sourceTensor.clone().detach() or sourceTensor.clone().detach().requires_grad_(True), rather than torch.tensor(sourceTensor).\n",
      "  pos_weight = torch.tensor((~input_d['edges_y'].bool()).sum() / input_d['edges_y'].sum() )\n",
      "/users/ang.li/public/SoftDV/ML/GNN_SDV_Reco/Networks/GNN/gnn_base.py:124: UserWarning: To copy construct from a tensor, it is recommended to use sourceTensor.clone().detach() or sourceTensor.clone().detach().requires_grad_(True), rather than torch.tensor(sourceTensor).\n",
      "  pos_weight = torch.tensor((~input_d['edges_y'].bool()).sum() / input_d['edges_y'].sum() )\n",
      "/users/ang.li/public/SoftDV/ML/GNN_SDV_Reco/Networks/GNN/gnn_base.py:124: UserWarning: To copy construct from a tensor, it is recommended to use sourceTensor.clone().detach() or sourceTensor.clone().detach().requires_grad_(True), rather than torch.tensor(sourceTensor).\n",
      "  pos_weight = torch.tensor((~input_d['edges_y'].bool()).sum() / input_d['edges_y'].sum() )\n",
      "/users/ang.li/public/SoftDV/ML/GNN_SDV_Reco/Networks/GNN/gnn_base.py:124: UserWarning: To copy construct from a tensor, it is recommended to use sourceTensor.clone().detach() or sourceTensor.clone().detach().requires_grad_(True), rather than torch.tensor(sourceTensor).\n",
      "  pos_weight = torch.tensor((~input_d['edges_y'].bool()).sum() / input_d['edges_y'].sum() )\n"
     ]
    },
    {
     "name": "stdout",
     "output_type": "stream",
     "text": [
      "Epoch 0:  98%|█████████████████████████████████████████████████████▋ | 1066/1092 [00:52<00:01, 20.12it/s, loss=1.31, v_num=12]\u001b[A\n",
      "Epoch 0:  98%|█████████████████████████████████████████████████████▋ | 1067/1092 [00:53<00:01, 20.13it/s, loss=1.31, v_num=12]\u001b[A\n",
      "Epoch 0:  98%|█████████████████████████████████████████████████████▊ | 1068/1092 [00:53<00:01, 20.14it/s, loss=1.31, v_num=12]\u001b[A\n",
      "Epoch 0:  98%|█████████████████████████████████████████████████████▊ | 1069/1092 [00:53<00:01, 20.15it/s, loss=1.31, v_num=12]\u001b[A\n",
      "Epoch 0:  98%|█████████████████████████████████████████████████████▉ | 1070/1092 [00:53<00:01, 20.16it/s, loss=1.31, v_num=12]\u001b[A\n",
      "Epoch 0:  98%|█████████████████████████████████████████████████████▉ | 1071/1092 [00:53<00:01, 20.17it/s, loss=1.31, v_num=12]\u001b[A\n",
      "Epoch 0:  98%|█████████████████████████████████████████████████████▉ | 1072/1092 [00:53<00:00, 20.18it/s, loss=1.31, v_num=12]\u001b[A\n",
      "Epoch 0:  98%|██████████████████████████████████████████████████████ | 1073/1092 [00:53<00:00, 20.20it/s, loss=1.31, v_num=12]\u001b[A\n",
      "Epoch 0:  98%|██████████████████████████████████████████████████████ | 1074/1092 [00:53<00:00, 20.21it/s, loss=1.31, v_num=12]\u001b[A\n",
      "Epoch 0:  98%|██████████████████████████████████████████████████████▏| 1075/1092 [00:53<00:00, 20.22it/s, loss=1.31, v_num=12]\u001b[A\n",
      "Epoch 0:  99%|██████████████████████████████████████████████████████▏| 1076/1092 [00:53<00:00, 20.23it/s, loss=1.31, v_num=12]\u001b[A"
     ]
    },
    {
     "name": "stderr",
     "output_type": "stream",
     "text": [
      "/users/ang.li/public/SoftDV/ML/GNN_SDV_Reco/Networks/GNN/gnn_base.py:124: UserWarning: To copy construct from a tensor, it is recommended to use sourceTensor.clone().detach() or sourceTensor.clone().detach().requires_grad_(True), rather than torch.tensor(sourceTensor).\n",
      "  pos_weight = torch.tensor((~input_d['edges_y'].bool()).sum() / input_d['edges_y'].sum() )\n",
      "/users/ang.li/public/SoftDV/ML/GNN_SDV_Reco/Networks/GNN/gnn_base.py:124: UserWarning: To copy construct from a tensor, it is recommended to use sourceTensor.clone().detach() or sourceTensor.clone().detach().requires_grad_(True), rather than torch.tensor(sourceTensor).\n",
      "  pos_weight = torch.tensor((~input_d['edges_y'].bool()).sum() / input_d['edges_y'].sum() )\n",
      "/users/ang.li/public/SoftDV/ML/GNN_SDV_Reco/Networks/GNN/gnn_base.py:124: UserWarning: To copy construct from a tensor, it is recommended to use sourceTensor.clone().detach() or sourceTensor.clone().detach().requires_grad_(True), rather than torch.tensor(sourceTensor).\n",
      "  pos_weight = torch.tensor((~input_d['edges_y'].bool()).sum() / input_d['edges_y'].sum() )\n",
      "/users/ang.li/public/SoftDV/ML/GNN_SDV_Reco/Networks/GNN/gnn_base.py:124: UserWarning: To copy construct from a tensor, it is recommended to use sourceTensor.clone().detach() or sourceTensor.clone().detach().requires_grad_(True), rather than torch.tensor(sourceTensor).\n",
      "  pos_weight = torch.tensor((~input_d['edges_y'].bool()).sum() / input_d['edges_y'].sum() )\n",
      "/users/ang.li/public/SoftDV/ML/GNN_SDV_Reco/Networks/GNN/gnn_base.py:124: UserWarning: To copy construct from a tensor, it is recommended to use sourceTensor.clone().detach() or sourceTensor.clone().detach().requires_grad_(True), rather than torch.tensor(sourceTensor).\n",
      "  pos_weight = torch.tensor((~input_d['edges_y'].bool()).sum() / input_d['edges_y'].sum() )\n",
      "/users/ang.li/public/SoftDV/ML/GNN_SDV_Reco/Networks/GNN/gnn_base.py:124: UserWarning: To copy construct from a tensor, it is recommended to use sourceTensor.clone().detach() or sourceTensor.clone().detach().requires_grad_(True), rather than torch.tensor(sourceTensor).\n",
      "  pos_weight = torch.tensor((~input_d['edges_y'].bool()).sum() / input_d['edges_y'].sum() )\n",
      "/users/ang.li/public/SoftDV/ML/GNN_SDV_Reco/Networks/GNN/gnn_base.py:124: UserWarning: To copy construct from a tensor, it is recommended to use sourceTensor.clone().detach() or sourceTensor.clone().detach().requires_grad_(True), rather than torch.tensor(sourceTensor).\n",
      "  pos_weight = torch.tensor((~input_d['edges_y'].bool()).sum() / input_d['edges_y'].sum() )\n",
      "/users/ang.li/public/SoftDV/ML/GNN_SDV_Reco/Networks/GNN/gnn_base.py:124: UserWarning: To copy construct from a tensor, it is recommended to use sourceTensor.clone().detach() or sourceTensor.clone().detach().requires_grad_(True), rather than torch.tensor(sourceTensor).\n",
      "  pos_weight = torch.tensor((~input_d['edges_y'].bool()).sum() / input_d['edges_y'].sum() )\n",
      "/users/ang.li/public/SoftDV/ML/GNN_SDV_Reco/Networks/GNN/gnn_base.py:124: UserWarning: To copy construct from a tensor, it is recommended to use sourceTensor.clone().detach() or sourceTensor.clone().detach().requires_grad_(True), rather than torch.tensor(sourceTensor).\n",
      "  pos_weight = torch.tensor((~input_d['edges_y'].bool()).sum() / input_d['edges_y'].sum() )\n",
      "/users/ang.li/public/SoftDV/ML/GNN_SDV_Reco/Networks/GNN/gnn_base.py:124: UserWarning: To copy construct from a tensor, it is recommended to use sourceTensor.clone().detach() or sourceTensor.clone().detach().requires_grad_(True), rather than torch.tensor(sourceTensor).\n",
      "  pos_weight = torch.tensor((~input_d['edges_y'].bool()).sum() / input_d['edges_y'].sum() )\n"
     ]
    },
    {
     "name": "stdout",
     "output_type": "stream",
     "text": [
      "\n",
      "Epoch 0:  99%|██████████████████████████████████████████████████████▏| 1077/1092 [00:53<00:00, 20.24it/s, loss=1.31, v_num=12]\u001b[A\n",
      "Epoch 0:  99%|██████████████████████████████████████████████████████▎| 1078/1092 [00:53<00:00, 20.25it/s, loss=1.31, v_num=12]\u001b[A\n",
      "Epoch 0:  99%|██████████████████████████████████████████████████████▎| 1079/1092 [00:53<00:00, 20.25it/s, loss=1.31, v_num=12]\u001b[A\n",
      "Epoch 0:  99%|██████████████████████████████████████████████████████▍| 1080/1092 [00:53<00:00, 20.25it/s, loss=1.31, v_num=12]\u001b[A\n",
      "Epoch 0:  99%|██████████████████████████████████████████████████████▍| 1081/1092 [00:53<00:00, 20.27it/s, loss=1.31, v_num=12]\u001b[A\n",
      "Epoch 0:  99%|██████████████████████████████████████████████████████▍| 1082/1092 [00:53<00:00, 20.28it/s, loss=1.31, v_num=12]\u001b[A"
     ]
    },
    {
     "name": "stderr",
     "output_type": "stream",
     "text": [
      "/users/ang.li/public/SoftDV/ML/GNN_SDV_Reco/Networks/GNN/gnn_base.py:124: UserWarning: To copy construct from a tensor, it is recommended to use sourceTensor.clone().detach() or sourceTensor.clone().detach().requires_grad_(True), rather than torch.tensor(sourceTensor).\n",
      "  pos_weight = torch.tensor((~input_d['edges_y'].bool()).sum() / input_d['edges_y'].sum() )\n",
      "/users/ang.li/public/SoftDV/ML/GNN_SDV_Reco/Networks/GNN/gnn_base.py:124: UserWarning: To copy construct from a tensor, it is recommended to use sourceTensor.clone().detach() or sourceTensor.clone().detach().requires_grad_(True), rather than torch.tensor(sourceTensor).\n",
      "  pos_weight = torch.tensor((~input_d['edges_y'].bool()).sum() / input_d['edges_y'].sum() )\n",
      "/users/ang.li/public/SoftDV/ML/GNN_SDV_Reco/Networks/GNN/gnn_base.py:124: UserWarning: To copy construct from a tensor, it is recommended to use sourceTensor.clone().detach() or sourceTensor.clone().detach().requires_grad_(True), rather than torch.tensor(sourceTensor).\n",
      "  pos_weight = torch.tensor((~input_d['edges_y'].bool()).sum() / input_d['edges_y'].sum() )\n",
      "/users/ang.li/public/SoftDV/ML/GNN_SDV_Reco/Networks/GNN/gnn_base.py:124: UserWarning: To copy construct from a tensor, it is recommended to use sourceTensor.clone().detach() or sourceTensor.clone().detach().requires_grad_(True), rather than torch.tensor(sourceTensor).\n",
      "  pos_weight = torch.tensor((~input_d['edges_y'].bool()).sum() / input_d['edges_y'].sum() )\n",
      "/users/ang.li/public/SoftDV/ML/GNN_SDV_Reco/Networks/GNN/gnn_base.py:124: UserWarning: To copy construct from a tensor, it is recommended to use sourceTensor.clone().detach() or sourceTensor.clone().detach().requires_grad_(True), rather than torch.tensor(sourceTensor).\n",
      "  pos_weight = torch.tensor((~input_d['edges_y'].bool()).sum() / input_d['edges_y'].sum() )\n",
      "/users/ang.li/public/SoftDV/ML/GNN_SDV_Reco/Networks/GNN/gnn_base.py:124: UserWarning: To copy construct from a tensor, it is recommended to use sourceTensor.clone().detach() or sourceTensor.clone().detach().requires_grad_(True), rather than torch.tensor(sourceTensor).\n",
      "  pos_weight = torch.tensor((~input_d['edges_y'].bool()).sum() / input_d['edges_y'].sum() )\n",
      "/users/ang.li/public/SoftDV/ML/GNN_SDV_Reco/Networks/GNN/gnn_base.py:124: UserWarning: To copy construct from a tensor, it is recommended to use sourceTensor.clone().detach() or sourceTensor.clone().detach().requires_grad_(True), rather than torch.tensor(sourceTensor).\n",
      "  pos_weight = torch.tensor((~input_d['edges_y'].bool()).sum() / input_d['edges_y'].sum() )\n"
     ]
    },
    {
     "name": "stdout",
     "output_type": "stream",
     "text": [
      "\n",
      "Epoch 0:  99%|██████████████████████████████████████████████████████▌| 1083/1092 [00:53<00:00, 20.26it/s, loss=1.31, v_num=12]\u001b[A\n",
      "Epoch 0:  99%|██████████████████████████████████████████████████████▌| 1084/1092 [00:53<00:00, 20.27it/s, loss=1.31, v_num=12]\u001b[A\n",
      "Epoch 0:  99%|██████████████████████████████████████████████████████▋| 1085/1092 [00:53<00:00, 20.27it/s, loss=1.31, v_num=12]\u001b[A\n",
      "Epoch 0:  99%|██████████████████████████████████████████████████████▋| 1086/1092 [00:53<00:00, 20.28it/s, loss=1.31, v_num=12]\u001b[A\n",
      "Epoch 0: 100%|██████████████████████████████████████████████████████▋| 1087/1092 [00:53<00:00, 20.29it/s, loss=1.31, v_num=12]\u001b[A\n",
      "Epoch 0: 100%|██████████████████████████████████████████████████████▊| 1088/1092 [00:53<00:00, 20.30it/s, loss=1.31, v_num=12]\u001b[A\n",
      "Epoch 0: 100%|██████████████████████████████████████████████████████▊| 1089/1092 [00:53<00:00, 20.30it/s, loss=1.31, v_num=12]\u001b[A\n",
      "Epoch 0: 100%|██████████████████████████████████████████████████████▉| 1090/1092 [00:53<00:00, 20.31it/s, loss=1.31, v_num=12]\u001b[A"
     ]
    },
    {
     "name": "stderr",
     "output_type": "stream",
     "text": [
      "/users/ang.li/public/SoftDV/ML/GNN_SDV_Reco/Networks/GNN/gnn_base.py:124: UserWarning: To copy construct from a tensor, it is recommended to use sourceTensor.clone().detach() or sourceTensor.clone().detach().requires_grad_(True), rather than torch.tensor(sourceTensor).\n",
      "  pos_weight = torch.tensor((~input_d['edges_y'].bool()).sum() / input_d['edges_y'].sum() )\n",
      "/users/ang.li/public/SoftDV/ML/GNN_SDV_Reco/Networks/GNN/gnn_base.py:124: UserWarning: To copy construct from a tensor, it is recommended to use sourceTensor.clone().detach() or sourceTensor.clone().detach().requires_grad_(True), rather than torch.tensor(sourceTensor).\n",
      "  pos_weight = torch.tensor((~input_d['edges_y'].bool()).sum() / input_d['edges_y'].sum() )\n",
      "/users/ang.li/public/SoftDV/ML/GNN_SDV_Reco/Networks/GNN/gnn_base.py:124: UserWarning: To copy construct from a tensor, it is recommended to use sourceTensor.clone().detach() or sourceTensor.clone().detach().requires_grad_(True), rather than torch.tensor(sourceTensor).\n",
      "  pos_weight = torch.tensor((~input_d['edges_y'].bool()).sum() / input_d['edges_y'].sum() )\n",
      "/users/ang.li/public/SoftDV/ML/GNN_SDV_Reco/Networks/GNN/gnn_base.py:124: UserWarning: To copy construct from a tensor, it is recommended to use sourceTensor.clone().detach() or sourceTensor.clone().detach().requires_grad_(True), rather than torch.tensor(sourceTensor).\n",
      "  pos_weight = torch.tensor((~input_d['edges_y'].bool()).sum() / input_d['edges_y'].sum() )\n",
      "/users/ang.li/public/SoftDV/ML/GNN_SDV_Reco/Networks/GNN/gnn_base.py:124: UserWarning: To copy construct from a tensor, it is recommended to use sourceTensor.clone().detach() or sourceTensor.clone().detach().requires_grad_(True), rather than torch.tensor(sourceTensor).\n",
      "  pos_weight = torch.tensor((~input_d['edges_y'].bool()).sum() / input_d['edges_y'].sum() )\n",
      "/users/ang.li/public/SoftDV/ML/GNN_SDV_Reco/Networks/GNN/gnn_base.py:124: UserWarning: To copy construct from a tensor, it is recommended to use sourceTensor.clone().detach() or sourceTensor.clone().detach().requires_grad_(True), rather than torch.tensor(sourceTensor).\n",
      "  pos_weight = torch.tensor((~input_d['edges_y'].bool()).sum() / input_d['edges_y'].sum() )\n",
      "/users/ang.li/public/SoftDV/ML/GNN_SDV_Reco/Networks/GNN/gnn_base.py:124: UserWarning: To copy construct from a tensor, it is recommended to use sourceTensor.clone().detach() or sourceTensor.clone().detach().requires_grad_(True), rather than torch.tensor(sourceTensor).\n",
      "  pos_weight = torch.tensor((~input_d['edges_y'].bool()).sum() / input_d['edges_y'].sum() )\n"
     ]
    },
    {
     "name": "stdout",
     "output_type": "stream",
     "text": [
      "\n",
      "Epoch 0: 100%|██████████████████████████████████████████████████████▉| 1091/1092 [00:53<00:00, 20.32it/s, loss=1.31, v_num=12]\u001b[A\n",
      "Epoch 0: 100%|███████████████████████████████████████████████████████| 1092/1092 [00:53<00:00, 20.31it/s, loss=1.31, v_num=12]\u001b[A\n",
      "Epoch 1:   0%|                                                                  | 0/1092 [00:00<?, ?it/s, loss=1.31, v_num=12]\u001b[A"
     ]
    },
    {
     "name": "stderr",
     "output_type": "stream",
     "text": [
      "/users/ang.li/public/SoftDV/ML/GNN_SDV_Reco/Networks/GNN/gnn_base.py:124: UserWarning: To copy construct from a tensor, it is recommended to use sourceTensor.clone().detach() or sourceTensor.clone().detach().requires_grad_(True), rather than torch.tensor(sourceTensor).\n",
      "  pos_weight = torch.tensor((~input_d['edges_y'].bool()).sum() / input_d['edges_y'].sum() )\n",
      "/users/ang.li/public/SoftDV/ML/GNN_SDV_Reco/Networks/GNN/gnn_base.py:124: UserWarning: To copy construct from a tensor, it is recommended to use sourceTensor.clone().detach() or sourceTensor.clone().detach().requires_grad_(True), rather than torch.tensor(sourceTensor).\n",
      "  pos_weight = torch.tensor((~input_d['edges_y'].bool()).sum() / input_d['edges_y'].sum() )\n",
      "/users/ang.li/public/SoftDV/ML/GNN_SDV_Reco/Networks/GNN/gnn_base.py:105: UserWarning: To copy construct from a tensor, it is recommended to use sourceTensor.clone().detach() or sourceTensor.clone().detach().requires_grad_(True), rather than torch.tensor(sourceTensor).\n",
      "  pos_weight = torch.tensor((~input_d['edges_y'].bool()).sum() / input_d['edges_y'].sum() )\n"
     ]
    },
    {
     "name": "stdout",
     "output_type": "stream",
     "text": [
      "Epoch 1:  92%|███████████████████████████████████████████████████▎    | 1000/1092 [00:48<00:04, 20.42it/s, loss=1.3, v_num=12]\n",
      "Validation: 0it [00:00, ?it/s]\u001b[A\n",
      "Validation:   0%|                                                                                      | 0/92 [00:00<?, ?it/s]\u001b[A\n",
      "Validation DataLoader 0:   0%|                                                                         | 0/92 [00:00<?, ?it/s]\u001b[A\n",
      "Epoch 1:  92%|███████████████████████████████████████████████████▎    | 1001/1092 [00:49<00:04, 20.22it/s, loss=1.3, v_num=12]\u001b[A\n",
      "Epoch 1:  92%|███████████████████████████████████████████████████▍    | 1002/1092 [00:49<00:04, 20.21it/s, loss=1.3, v_num=12]\u001b[A\n",
      "Epoch 1:  92%|███████████████████████████████████████████████████▍    | 1003/1092 [00:49<00:04, 20.23it/s, loss=1.3, v_num=12]\u001b[A\n",
      "Epoch 1:  92%|███████████████████████████████████████████████████▍    | 1004/1092 [00:49<00:04, 20.24it/s, loss=1.3, v_num=12]\u001b[A\n",
      "Epoch 1:  92%|███████████████████████████████████████████████████▌    | 1005/1092 [00:49<00:04, 20.25it/s, loss=1.3, v_num=12]\u001b[A\n",
      "Epoch 1:  92%|███████████████████████████████████████████████████▌    | 1006/1092 [00:49<00:04, 20.26it/s, loss=1.3, v_num=12]\u001b[A"
     ]
    },
    {
     "name": "stderr",
     "output_type": "stream",
     "text": [
      "/users/ang.li/public/SoftDV/ML/GNN_SDV_Reco/Networks/GNN/gnn_base.py:124: UserWarning: To copy construct from a tensor, it is recommended to use sourceTensor.clone().detach() or sourceTensor.clone().detach().requires_grad_(True), rather than torch.tensor(sourceTensor).\n",
      "  pos_weight = torch.tensor((~input_d['edges_y'].bool()).sum() / input_d['edges_y'].sum() )\n",
      "/users/ang.li/public/SoftDV/ML/GNN_SDV_Reco/Networks/GNN/gnn_base.py:124: UserWarning: To copy construct from a tensor, it is recommended to use sourceTensor.clone().detach() or sourceTensor.clone().detach().requires_grad_(True), rather than torch.tensor(sourceTensor).\n",
      "  pos_weight = torch.tensor((~input_d['edges_y'].bool()).sum() / input_d['edges_y'].sum() )\n",
      "/users/ang.li/public/SoftDV/ML/GNN_SDV_Reco/Networks/GNN/gnn_base.py:124: UserWarning: To copy construct from a tensor, it is recommended to use sourceTensor.clone().detach() or sourceTensor.clone().detach().requires_grad_(True), rather than torch.tensor(sourceTensor).\n",
      "  pos_weight = torch.tensor((~input_d['edges_y'].bool()).sum() / input_d['edges_y'].sum() )\n",
      "/users/ang.li/public/SoftDV/ML/GNN_SDV_Reco/Networks/GNN/gnn_base.py:124: UserWarning: To copy construct from a tensor, it is recommended to use sourceTensor.clone().detach() or sourceTensor.clone().detach().requires_grad_(True), rather than torch.tensor(sourceTensor).\n",
      "  pos_weight = torch.tensor((~input_d['edges_y'].bool()).sum() / input_d['edges_y'].sum() )\n",
      "/users/ang.li/public/SoftDV/ML/GNN_SDV_Reco/Networks/GNN/gnn_base.py:124: UserWarning: To copy construct from a tensor, it is recommended to use sourceTensor.clone().detach() or sourceTensor.clone().detach().requires_grad_(True), rather than torch.tensor(sourceTensor).\n",
      "  pos_weight = torch.tensor((~input_d['edges_y'].bool()).sum() / input_d['edges_y'].sum() )\n",
      "/users/ang.li/public/SoftDV/ML/GNN_SDV_Reco/Networks/GNN/gnn_base.py:124: UserWarning: To copy construct from a tensor, it is recommended to use sourceTensor.clone().detach() or sourceTensor.clone().detach().requires_grad_(True), rather than torch.tensor(sourceTensor).\n",
      "  pos_weight = torch.tensor((~input_d['edges_y'].bool()).sum() / input_d['edges_y'].sum() )\n",
      "/users/ang.li/public/SoftDV/ML/GNN_SDV_Reco/Networks/GNN/gnn_base.py:124: UserWarning: To copy construct from a tensor, it is recommended to use sourceTensor.clone().detach() or sourceTensor.clone().detach().requires_grad_(True), rather than torch.tensor(sourceTensor).\n",
      "  pos_weight = torch.tensor((~input_d['edges_y'].bool()).sum() / input_d['edges_y'].sum() )\n"
     ]
    },
    {
     "name": "stdout",
     "output_type": "stream",
     "text": [
      "\n",
      "Epoch 1:  92%|███████████████████████████████████████████████████▋    | 1007/1092 [00:49<00:04, 20.28it/s, loss=1.3, v_num=12]\u001b[A\n",
      "Epoch 1:  92%|███████████████████████████████████████████████████▋    | 1008/1092 [00:49<00:04, 20.28it/s, loss=1.3, v_num=12]\u001b[A\n",
      "Epoch 1:  92%|███████████████████████████████████████████████████▋    | 1009/1092 [00:49<00:04, 20.30it/s, loss=1.3, v_num=12]\u001b[A\n",
      "Epoch 1:  92%|███████████████████████████████████████████████████▊    | 1010/1092 [00:49<00:04, 20.31it/s, loss=1.3, v_num=12]\u001b[A\n",
      "Epoch 1:  93%|███████████████████████████████████████████████████▊    | 1011/1092 [00:49<00:03, 20.32it/s, loss=1.3, v_num=12]\u001b[A\n",
      "Epoch 1:  93%|███████████████████████████████████████████████████▉    | 1012/1092 [00:49<00:03, 20.33it/s, loss=1.3, v_num=12]\u001b[A\n",
      "Epoch 1:  93%|███████████████████████████████████████████████████▉    | 1013/1092 [00:49<00:03, 20.35it/s, loss=1.3, v_num=12]\u001b[A\n",
      "Epoch 1:  93%|████████████████████████████████████████████████████    | 1014/1092 [00:49<00:03, 20.35it/s, loss=1.3, v_num=12]\u001b[A\n",
      "Epoch 1:  93%|████████████████████████████████████████████████████    | 1015/1092 [00:49<00:03, 20.37it/s, loss=1.3, v_num=12]\u001b[A"
     ]
    },
    {
     "name": "stderr",
     "output_type": "stream",
     "text": [
      "/users/ang.li/public/SoftDV/ML/GNN_SDV_Reco/Networks/GNN/gnn_base.py:124: UserWarning: To copy construct from a tensor, it is recommended to use sourceTensor.clone().detach() or sourceTensor.clone().detach().requires_grad_(True), rather than torch.tensor(sourceTensor).\n",
      "  pos_weight = torch.tensor((~input_d['edges_y'].bool()).sum() / input_d['edges_y'].sum() )\n",
      "/users/ang.li/public/SoftDV/ML/GNN_SDV_Reco/Networks/GNN/gnn_base.py:124: UserWarning: To copy construct from a tensor, it is recommended to use sourceTensor.clone().detach() or sourceTensor.clone().detach().requires_grad_(True), rather than torch.tensor(sourceTensor).\n",
      "  pos_weight = torch.tensor((~input_d['edges_y'].bool()).sum() / input_d['edges_y'].sum() )\n",
      "/users/ang.li/public/SoftDV/ML/GNN_SDV_Reco/Networks/GNN/gnn_base.py:124: UserWarning: To copy construct from a tensor, it is recommended to use sourceTensor.clone().detach() or sourceTensor.clone().detach().requires_grad_(True), rather than torch.tensor(sourceTensor).\n",
      "  pos_weight = torch.tensor((~input_d['edges_y'].bool()).sum() / input_d['edges_y'].sum() )\n",
      "/users/ang.li/public/SoftDV/ML/GNN_SDV_Reco/Networks/GNN/gnn_base.py:124: UserWarning: To copy construct from a tensor, it is recommended to use sourceTensor.clone().detach() or sourceTensor.clone().detach().requires_grad_(True), rather than torch.tensor(sourceTensor).\n",
      "  pos_weight = torch.tensor((~input_d['edges_y'].bool()).sum() / input_d['edges_y'].sum() )\n",
      "/users/ang.li/public/SoftDV/ML/GNN_SDV_Reco/Networks/GNN/gnn_base.py:124: UserWarning: To copy construct from a tensor, it is recommended to use sourceTensor.clone().detach() or sourceTensor.clone().detach().requires_grad_(True), rather than torch.tensor(sourceTensor).\n",
      "  pos_weight = torch.tensor((~input_d['edges_y'].bool()).sum() / input_d['edges_y'].sum() )\n",
      "/users/ang.li/public/SoftDV/ML/GNN_SDV_Reco/Networks/GNN/gnn_base.py:124: UserWarning: To copy construct from a tensor, it is recommended to use sourceTensor.clone().detach() or sourceTensor.clone().detach().requires_grad_(True), rather than torch.tensor(sourceTensor).\n",
      "  pos_weight = torch.tensor((~input_d['edges_y'].bool()).sum() / input_d['edges_y'].sum() )\n",
      "/users/ang.li/public/SoftDV/ML/GNN_SDV_Reco/Networks/GNN/gnn_base.py:124: UserWarning: To copy construct from a tensor, it is recommended to use sourceTensor.clone().detach() or sourceTensor.clone().detach().requires_grad_(True), rather than torch.tensor(sourceTensor).\n",
      "  pos_weight = torch.tensor((~input_d['edges_y'].bool()).sum() / input_d['edges_y'].sum() )\n",
      "/users/ang.li/public/SoftDV/ML/GNN_SDV_Reco/Networks/GNN/gnn_base.py:124: UserWarning: To copy construct from a tensor, it is recommended to use sourceTensor.clone().detach() or sourceTensor.clone().detach().requires_grad_(True), rather than torch.tensor(sourceTensor).\n",
      "  pos_weight = torch.tensor((~input_d['edges_y'].bool()).sum() / input_d['edges_y'].sum() )\n"
     ]
    },
    {
     "name": "stdout",
     "output_type": "stream",
     "text": [
      "\n",
      "Epoch 1:  93%|████████████████████████████████████████████████████    | 1016/1092 [00:49<00:03, 20.35it/s, loss=1.3, v_num=12]\u001b[A\n",
      "Epoch 1:  93%|████████████████████████████████████████████████████▏   | 1017/1092 [00:49<00:03, 20.37it/s, loss=1.3, v_num=12]\u001b[A\n",
      "Epoch 1:  93%|████████████████████████████████████████████████████▏   | 1018/1092 [00:49<00:03, 20.38it/s, loss=1.3, v_num=12]\u001b[A\n",
      "Epoch 1:  93%|████████████████████████████████████████████████████▎   | 1019/1092 [00:49<00:03, 20.39it/s, loss=1.3, v_num=12]\u001b[A\n",
      "Epoch 1:  93%|████████████████████████████████████████████████████▎   | 1020/1092 [00:49<00:03, 20.41it/s, loss=1.3, v_num=12]\u001b[A\n",
      "Epoch 1:  93%|████████████████████████████████████████████████████▎   | 1021/1092 [00:49<00:03, 20.42it/s, loss=1.3, v_num=12]\u001b[A\n",
      "Epoch 1:  94%|████████████████████████████████████████████████████▍   | 1022/1092 [00:50<00:03, 20.44it/s, loss=1.3, v_num=12]\u001b[A\n",
      "Epoch 1:  94%|████████████████████████████████████████████████████▍   | 1023/1092 [00:50<00:03, 20.45it/s, loss=1.3, v_num=12]\u001b[A\n",
      "Epoch 1:  94%|████████████████████████████████████████████████████▌   | 1024/1092 [00:50<00:03, 20.46it/s, loss=1.3, v_num=12]\u001b[A\n",
      "Epoch 1:  94%|████████████████████████████████████████████████████▌   | 1025/1092 [00:50<00:03, 20.47it/s, loss=1.3, v_num=12]\u001b[A\n",
      "Epoch 1:  94%|████████████████████████████████████████████████████▌   | 1026/1092 [00:50<00:03, 20.49it/s, loss=1.3, v_num=12]\u001b[A\n",
      "Epoch 1:  94%|████████████████████████████████████████████████████▋   | 1027/1092 [00:50<00:03, 20.50it/s, loss=1.3, v_num=12]\u001b[A"
     ]
    },
    {
     "name": "stderr",
     "output_type": "stream",
     "text": [
      "/users/ang.li/public/SoftDV/ML/GNN_SDV_Reco/Networks/GNN/gnn_base.py:124: UserWarning: To copy construct from a tensor, it is recommended to use sourceTensor.clone().detach() or sourceTensor.clone().detach().requires_grad_(True), rather than torch.tensor(sourceTensor).\n",
      "  pos_weight = torch.tensor((~input_d['edges_y'].bool()).sum() / input_d['edges_y'].sum() )\n",
      "/users/ang.li/public/SoftDV/ML/GNN_SDV_Reco/Networks/GNN/gnn_base.py:124: UserWarning: To copy construct from a tensor, it is recommended to use sourceTensor.clone().detach() or sourceTensor.clone().detach().requires_grad_(True), rather than torch.tensor(sourceTensor).\n",
      "  pos_weight = torch.tensor((~input_d['edges_y'].bool()).sum() / input_d['edges_y'].sum() )\n",
      "/users/ang.li/public/SoftDV/ML/GNN_SDV_Reco/Networks/GNN/gnn_base.py:124: UserWarning: To copy construct from a tensor, it is recommended to use sourceTensor.clone().detach() or sourceTensor.clone().detach().requires_grad_(True), rather than torch.tensor(sourceTensor).\n",
      "  pos_weight = torch.tensor((~input_d['edges_y'].bool()).sum() / input_d['edges_y'].sum() )\n",
      "/users/ang.li/public/SoftDV/ML/GNN_SDV_Reco/Networks/GNN/gnn_base.py:124: UserWarning: To copy construct from a tensor, it is recommended to use sourceTensor.clone().detach() or sourceTensor.clone().detach().requires_grad_(True), rather than torch.tensor(sourceTensor).\n",
      "  pos_weight = torch.tensor((~input_d['edges_y'].bool()).sum() / input_d['edges_y'].sum() )\n",
      "/users/ang.li/public/SoftDV/ML/GNN_SDV_Reco/Networks/GNN/gnn_base.py:124: UserWarning: To copy construct from a tensor, it is recommended to use sourceTensor.clone().detach() or sourceTensor.clone().detach().requires_grad_(True), rather than torch.tensor(sourceTensor).\n",
      "  pos_weight = torch.tensor((~input_d['edges_y'].bool()).sum() / input_d['edges_y'].sum() )\n",
      "/users/ang.li/public/SoftDV/ML/GNN_SDV_Reco/Networks/GNN/gnn_base.py:124: UserWarning: To copy construct from a tensor, it is recommended to use sourceTensor.clone().detach() or sourceTensor.clone().detach().requires_grad_(True), rather than torch.tensor(sourceTensor).\n",
      "  pos_weight = torch.tensor((~input_d['edges_y'].bool()).sum() / input_d['edges_y'].sum() )\n",
      "/users/ang.li/public/SoftDV/ML/GNN_SDV_Reco/Networks/GNN/gnn_base.py:124: UserWarning: To copy construct from a tensor, it is recommended to use sourceTensor.clone().detach() or sourceTensor.clone().detach().requires_grad_(True), rather than torch.tensor(sourceTensor).\n",
      "  pos_weight = torch.tensor((~input_d['edges_y'].bool()).sum() / input_d['edges_y'].sum() )\n",
      "/users/ang.li/public/SoftDV/ML/GNN_SDV_Reco/Networks/GNN/gnn_base.py:124: UserWarning: To copy construct from a tensor, it is recommended to use sourceTensor.clone().detach() or sourceTensor.clone().detach().requires_grad_(True), rather than torch.tensor(sourceTensor).\n",
      "  pos_weight = torch.tensor((~input_d['edges_y'].bool()).sum() / input_d['edges_y'].sum() )\n",
      "/users/ang.li/public/SoftDV/ML/GNN_SDV_Reco/Networks/GNN/gnn_base.py:124: UserWarning: To copy construct from a tensor, it is recommended to use sourceTensor.clone().detach() or sourceTensor.clone().detach().requires_grad_(True), rather than torch.tensor(sourceTensor).\n",
      "  pos_weight = torch.tensor((~input_d['edges_y'].bool()).sum() / input_d['edges_y'].sum() )\n",
      "/users/ang.li/public/SoftDV/ML/GNN_SDV_Reco/Networks/GNN/gnn_base.py:124: UserWarning: To copy construct from a tensor, it is recommended to use sourceTensor.clone().detach() or sourceTensor.clone().detach().requires_grad_(True), rather than torch.tensor(sourceTensor).\n",
      "  pos_weight = torch.tensor((~input_d['edges_y'].bool()).sum() / input_d['edges_y'].sum() )\n",
      "/users/ang.li/public/SoftDV/ML/GNN_SDV_Reco/Networks/GNN/gnn_base.py:124: UserWarning: To copy construct from a tensor, it is recommended to use sourceTensor.clone().detach() or sourceTensor.clone().detach().requires_grad_(True), rather than torch.tensor(sourceTensor).\n",
      "  pos_weight = torch.tensor((~input_d['edges_y'].bool()).sum() / input_d['edges_y'].sum() )\n",
      "/users/ang.li/public/SoftDV/ML/GNN_SDV_Reco/Networks/GNN/gnn_base.py:124: UserWarning: To copy construct from a tensor, it is recommended to use sourceTensor.clone().detach() or sourceTensor.clone().detach().requires_grad_(True), rather than torch.tensor(sourceTensor).\n",
      "  pos_weight = torch.tensor((~input_d['edges_y'].bool()).sum() / input_d['edges_y'].sum() )\n",
      "/users/ang.li/public/SoftDV/ML/GNN_SDV_Reco/Networks/GNN/gnn_base.py:124: UserWarning: To copy construct from a tensor, it is recommended to use sourceTensor.clone().detach() or sourceTensor.clone().detach().requires_grad_(True), rather than torch.tensor(sourceTensor).\n",
      "  pos_weight = torch.tensor((~input_d['edges_y'].bool()).sum() / input_d['edges_y'].sum() )\n"
     ]
    },
    {
     "name": "stdout",
     "output_type": "stream",
     "text": [
      "\n",
      "Epoch 1:  94%|████████████████████████████████████████████████████▋   | 1028/1092 [00:50<00:03, 20.52it/s, loss=1.3, v_num=12]\u001b[A\n",
      "Epoch 1:  94%|████████████████████████████████████████████████████▊   | 1029/1092 [00:50<00:03, 20.53it/s, loss=1.3, v_num=12]\u001b[A\n",
      "Epoch 1:  94%|████████████████████████████████████████████████████▊   | 1030/1092 [00:50<00:03, 20.54it/s, loss=1.3, v_num=12]\u001b[A\n",
      "Epoch 1:  94%|████████████████████████████████████████████████████▊   | 1031/1092 [00:50<00:02, 20.56it/s, loss=1.3, v_num=12]\u001b[A\n",
      "Epoch 1:  95%|████████████████████████████████████████████████████▉   | 1032/1092 [00:50<00:02, 20.57it/s, loss=1.3, v_num=12]\u001b[A\n",
      "Epoch 1:  95%|████████████████████████████████████████████████████▉   | 1033/1092 [00:50<00:02, 20.58it/s, loss=1.3, v_num=12]\u001b[A\n",
      "Epoch 1:  95%|█████████████████████████████████████████████████████   | 1034/1092 [00:50<00:02, 20.59it/s, loss=1.3, v_num=12]\u001b[A\n",
      "Epoch 1:  95%|█████████████████████████████████████████████████████   | 1035/1092 [00:50<00:02, 20.60it/s, loss=1.3, v_num=12]\u001b[A\n",
      "Epoch 1:  95%|█████████████████████████████████████████████████████▏  | 1036/1092 [00:50<00:02, 20.61it/s, loss=1.3, v_num=12]\u001b[A\n",
      "Epoch 1:  95%|█████████████████████████████████████████████████████▏  | 1037/1092 [00:50<00:02, 20.62it/s, loss=1.3, v_num=12]\u001b[A"
     ]
    },
    {
     "name": "stderr",
     "output_type": "stream",
     "text": [
      "/users/ang.li/public/SoftDV/ML/GNN_SDV_Reco/Networks/GNN/gnn_base.py:124: UserWarning: To copy construct from a tensor, it is recommended to use sourceTensor.clone().detach() or sourceTensor.clone().detach().requires_grad_(True), rather than torch.tensor(sourceTensor).\n",
      "  pos_weight = torch.tensor((~input_d['edges_y'].bool()).sum() / input_d['edges_y'].sum() )\n",
      "/users/ang.li/public/SoftDV/ML/GNN_SDV_Reco/Networks/GNN/gnn_base.py:124: UserWarning: To copy construct from a tensor, it is recommended to use sourceTensor.clone().detach() or sourceTensor.clone().detach().requires_grad_(True), rather than torch.tensor(sourceTensor).\n",
      "  pos_weight = torch.tensor((~input_d['edges_y'].bool()).sum() / input_d['edges_y'].sum() )\n",
      "/users/ang.li/public/SoftDV/ML/GNN_SDV_Reco/Networks/GNN/gnn_base.py:124: UserWarning: To copy construct from a tensor, it is recommended to use sourceTensor.clone().detach() or sourceTensor.clone().detach().requires_grad_(True), rather than torch.tensor(sourceTensor).\n",
      "  pos_weight = torch.tensor((~input_d['edges_y'].bool()).sum() / input_d['edges_y'].sum() )\n",
      "/users/ang.li/public/SoftDV/ML/GNN_SDV_Reco/Networks/GNN/gnn_base.py:124: UserWarning: To copy construct from a tensor, it is recommended to use sourceTensor.clone().detach() or sourceTensor.clone().detach().requires_grad_(True), rather than torch.tensor(sourceTensor).\n",
      "  pos_weight = torch.tensor((~input_d['edges_y'].bool()).sum() / input_d['edges_y'].sum() )\n",
      "/users/ang.li/public/SoftDV/ML/GNN_SDV_Reco/Networks/GNN/gnn_base.py:124: UserWarning: To copy construct from a tensor, it is recommended to use sourceTensor.clone().detach() or sourceTensor.clone().detach().requires_grad_(True), rather than torch.tensor(sourceTensor).\n",
      "  pos_weight = torch.tensor((~input_d['edges_y'].bool()).sum() / input_d['edges_y'].sum() )\n",
      "/users/ang.li/public/SoftDV/ML/GNN_SDV_Reco/Networks/GNN/gnn_base.py:124: UserWarning: To copy construct from a tensor, it is recommended to use sourceTensor.clone().detach() or sourceTensor.clone().detach().requires_grad_(True), rather than torch.tensor(sourceTensor).\n",
      "  pos_weight = torch.tensor((~input_d['edges_y'].bool()).sum() / input_d['edges_y'].sum() )\n",
      "/users/ang.li/public/SoftDV/ML/GNN_SDV_Reco/Networks/GNN/gnn_base.py:124: UserWarning: To copy construct from a tensor, it is recommended to use sourceTensor.clone().detach() or sourceTensor.clone().detach().requires_grad_(True), rather than torch.tensor(sourceTensor).\n",
      "  pos_weight = torch.tensor((~input_d['edges_y'].bool()).sum() / input_d['edges_y'].sum() )\n",
      "/users/ang.li/public/SoftDV/ML/GNN_SDV_Reco/Networks/GNN/gnn_base.py:124: UserWarning: To copy construct from a tensor, it is recommended to use sourceTensor.clone().detach() or sourceTensor.clone().detach().requires_grad_(True), rather than torch.tensor(sourceTensor).\n",
      "  pos_weight = torch.tensor((~input_d['edges_y'].bool()).sum() / input_d['edges_y'].sum() )\n",
      "/users/ang.li/public/SoftDV/ML/GNN_SDV_Reco/Networks/GNN/gnn_base.py:124: UserWarning: To copy construct from a tensor, it is recommended to use sourceTensor.clone().detach() or sourceTensor.clone().detach().requires_grad_(True), rather than torch.tensor(sourceTensor).\n",
      "  pos_weight = torch.tensor((~input_d['edges_y'].bool()).sum() / input_d['edges_y'].sum() )\n"
     ]
    },
    {
     "name": "stdout",
     "output_type": "stream",
     "text": [
      "\n",
      "Epoch 1:  95%|█████████████████████████████████████████████████████▏  | 1038/1092 [00:50<00:02, 20.61it/s, loss=1.3, v_num=12]\u001b[A\n",
      "Epoch 1:  95%|█████████████████████████████████████████████████████▎  | 1039/1092 [00:50<00:02, 20.62it/s, loss=1.3, v_num=12]\u001b[A\n",
      "Epoch 1:  95%|█████████████████████████████████████████████████████▎  | 1040/1092 [00:50<00:02, 20.63it/s, loss=1.3, v_num=12]\u001b[A\n",
      "Epoch 1:  95%|█████████████████████████████████████████████████████▍  | 1041/1092 [00:50<00:02, 20.63it/s, loss=1.3, v_num=12]\u001b[A\n",
      "Epoch 1:  95%|█████████████████████████████████████████████████████▍  | 1042/1092 [00:50<00:02, 20.65it/s, loss=1.3, v_num=12]\u001b[A\n",
      "Epoch 1:  96%|█████████████████████████████████████████████████████▍  | 1043/1092 [00:50<00:02, 20.65it/s, loss=1.3, v_num=12]\u001b[A"
     ]
    },
    {
     "name": "stderr",
     "output_type": "stream",
     "text": [
      "/users/ang.li/public/SoftDV/ML/GNN_SDV_Reco/Networks/GNN/gnn_base.py:124: UserWarning: To copy construct from a tensor, it is recommended to use sourceTensor.clone().detach() or sourceTensor.clone().detach().requires_grad_(True), rather than torch.tensor(sourceTensor).\n",
      "  pos_weight = torch.tensor((~input_d['edges_y'].bool()).sum() / input_d['edges_y'].sum() )\n",
      "/users/ang.li/public/SoftDV/ML/GNN_SDV_Reco/Networks/GNN/gnn_base.py:124: UserWarning: To copy construct from a tensor, it is recommended to use sourceTensor.clone().detach() or sourceTensor.clone().detach().requires_grad_(True), rather than torch.tensor(sourceTensor).\n",
      "  pos_weight = torch.tensor((~input_d['edges_y'].bool()).sum() / input_d['edges_y'].sum() )\n",
      "/users/ang.li/public/SoftDV/ML/GNN_SDV_Reco/Networks/GNN/gnn_base.py:124: UserWarning: To copy construct from a tensor, it is recommended to use sourceTensor.clone().detach() or sourceTensor.clone().detach().requires_grad_(True), rather than torch.tensor(sourceTensor).\n",
      "  pos_weight = torch.tensor((~input_d['edges_y'].bool()).sum() / input_d['edges_y'].sum() )\n",
      "/users/ang.li/public/SoftDV/ML/GNN_SDV_Reco/Networks/GNN/gnn_base.py:124: UserWarning: To copy construct from a tensor, it is recommended to use sourceTensor.clone().detach() or sourceTensor.clone().detach().requires_grad_(True), rather than torch.tensor(sourceTensor).\n",
      "  pos_weight = torch.tensor((~input_d['edges_y'].bool()).sum() / input_d['edges_y'].sum() )\n",
      "/users/ang.li/public/SoftDV/ML/GNN_SDV_Reco/Networks/GNN/gnn_base.py:124: UserWarning: To copy construct from a tensor, it is recommended to use sourceTensor.clone().detach() or sourceTensor.clone().detach().requires_grad_(True), rather than torch.tensor(sourceTensor).\n",
      "  pos_weight = torch.tensor((~input_d['edges_y'].bool()).sum() / input_d['edges_y'].sum() )\n",
      "/users/ang.li/public/SoftDV/ML/GNN_SDV_Reco/Networks/GNN/gnn_base.py:124: UserWarning: To copy construct from a tensor, it is recommended to use sourceTensor.clone().detach() or sourceTensor.clone().detach().requires_grad_(True), rather than torch.tensor(sourceTensor).\n",
      "  pos_weight = torch.tensor((~input_d['edges_y'].bool()).sum() / input_d['edges_y'].sum() )\n"
     ]
    },
    {
     "name": "stdout",
     "output_type": "stream",
     "text": [
      "\n",
      "Epoch 1:  96%|█████████████████████████████████████████████████████▌  | 1044/1092 [00:50<00:02, 20.66it/s, loss=1.3, v_num=12]\u001b[A\n",
      "Epoch 1:  96%|█████████████████████████████████████████████████████▌  | 1045/1092 [00:50<00:02, 20.67it/s, loss=1.3, v_num=12]\u001b[A\n",
      "Epoch 1:  96%|█████████████████████████████████████████████████████▋  | 1046/1092 [00:50<00:02, 20.68it/s, loss=1.3, v_num=12]\u001b[A\n",
      "Epoch 1:  96%|█████████████████████████████████████████████████████▋  | 1047/1092 [00:50<00:02, 20.67it/s, loss=1.3, v_num=12]\u001b[A\n",
      "Epoch 1:  96%|█████████████████████████████████████████████████████▋  | 1048/1092 [00:50<00:02, 20.68it/s, loss=1.3, v_num=12]\u001b[A\n",
      "Epoch 1:  96%|█████████████████████████████████████████████████████▊  | 1049/1092 [00:50<00:02, 20.69it/s, loss=1.3, v_num=12]\u001b[A"
     ]
    },
    {
     "name": "stderr",
     "output_type": "stream",
     "text": [
      "/users/ang.li/public/SoftDV/ML/GNN_SDV_Reco/Networks/GNN/gnn_base.py:124: UserWarning: To copy construct from a tensor, it is recommended to use sourceTensor.clone().detach() or sourceTensor.clone().detach().requires_grad_(True), rather than torch.tensor(sourceTensor).\n",
      "  pos_weight = torch.tensor((~input_d['edges_y'].bool()).sum() / input_d['edges_y'].sum() )\n",
      "/users/ang.li/public/SoftDV/ML/GNN_SDV_Reco/Networks/GNN/gnn_base.py:124: UserWarning: To copy construct from a tensor, it is recommended to use sourceTensor.clone().detach() or sourceTensor.clone().detach().requires_grad_(True), rather than torch.tensor(sourceTensor).\n",
      "  pos_weight = torch.tensor((~input_d['edges_y'].bool()).sum() / input_d['edges_y'].sum() )\n",
      "/users/ang.li/public/SoftDV/ML/GNN_SDV_Reco/Networks/GNN/gnn_base.py:124: UserWarning: To copy construct from a tensor, it is recommended to use sourceTensor.clone().detach() or sourceTensor.clone().detach().requires_grad_(True), rather than torch.tensor(sourceTensor).\n",
      "  pos_weight = torch.tensor((~input_d['edges_y'].bool()).sum() / input_d['edges_y'].sum() )\n",
      "/users/ang.li/public/SoftDV/ML/GNN_SDV_Reco/Networks/GNN/gnn_base.py:124: UserWarning: To copy construct from a tensor, it is recommended to use sourceTensor.clone().detach() or sourceTensor.clone().detach().requires_grad_(True), rather than torch.tensor(sourceTensor).\n",
      "  pos_weight = torch.tensor((~input_d['edges_y'].bool()).sum() / input_d['edges_y'].sum() )\n",
      "/users/ang.li/public/SoftDV/ML/GNN_SDV_Reco/Networks/GNN/gnn_base.py:124: UserWarning: To copy construct from a tensor, it is recommended to use sourceTensor.clone().detach() or sourceTensor.clone().detach().requires_grad_(True), rather than torch.tensor(sourceTensor).\n",
      "  pos_weight = torch.tensor((~input_d['edges_y'].bool()).sum() / input_d['edges_y'].sum() )\n",
      "/users/ang.li/public/SoftDV/ML/GNN_SDV_Reco/Networks/GNN/gnn_base.py:124: UserWarning: To copy construct from a tensor, it is recommended to use sourceTensor.clone().detach() or sourceTensor.clone().detach().requires_grad_(True), rather than torch.tensor(sourceTensor).\n",
      "  pos_weight = torch.tensor((~input_d['edges_y'].bool()).sum() / input_d['edges_y'].sum() )\n",
      "/users/ang.li/public/SoftDV/ML/GNN_SDV_Reco/Networks/GNN/gnn_base.py:124: UserWarning: To copy construct from a tensor, it is recommended to use sourceTensor.clone().detach() or sourceTensor.clone().detach().requires_grad_(True), rather than torch.tensor(sourceTensor).\n",
      "  pos_weight = torch.tensor((~input_d['edges_y'].bool()).sum() / input_d['edges_y'].sum() )\n"
     ]
    },
    {
     "name": "stdout",
     "output_type": "stream",
     "text": [
      "\n",
      "Epoch 1:  96%|█████████████████████████████████████████████████████▊  | 1050/1092 [00:50<00:02, 20.70it/s, loss=1.3, v_num=12]\u001b[A\n",
      "Epoch 1:  96%|█████████████████████████████████████████████████████▉  | 1051/1092 [00:50<00:01, 20.71it/s, loss=1.3, v_num=12]\u001b[A\n",
      "Epoch 1:  96%|█████████████████████████████████████████████████████▉  | 1052/1092 [00:50<00:01, 20.72it/s, loss=1.3, v_num=12]\u001b[A\n",
      "Epoch 1:  96%|██████████████████████████████████████████████████████  | 1053/1092 [00:50<00:01, 20.73it/s, loss=1.3, v_num=12]\u001b[A\n",
      "Epoch 1:  97%|██████████████████████████████████████████████████████  | 1054/1092 [00:50<00:01, 20.74it/s, loss=1.3, v_num=12]\u001b[A\n",
      "Epoch 1:  97%|██████████████████████████████████████████████████████  | 1055/1092 [00:50<00:01, 20.75it/s, loss=1.3, v_num=12]\u001b[A\n",
      "Epoch 1:  97%|██████████████████████████████████████████████████████▏ | 1056/1092 [00:50<00:01, 20.76it/s, loss=1.3, v_num=12]\u001b[A\n",
      "Epoch 1:  97%|██████████████████████████████████████████████████████▏ | 1057/1092 [00:50<00:01, 20.77it/s, loss=1.3, v_num=12]\u001b[A\n",
      "Epoch 1:  97%|██████████████████████████████████████████████████████▎ | 1058/1092 [00:50<00:01, 20.78it/s, loss=1.3, v_num=12]\u001b[A"
     ]
    },
    {
     "name": "stderr",
     "output_type": "stream",
     "text": [
      "/users/ang.li/public/SoftDV/ML/GNN_SDV_Reco/Networks/GNN/gnn_base.py:124: UserWarning: To copy construct from a tensor, it is recommended to use sourceTensor.clone().detach() or sourceTensor.clone().detach().requires_grad_(True), rather than torch.tensor(sourceTensor).\n",
      "  pos_weight = torch.tensor((~input_d['edges_y'].bool()).sum() / input_d['edges_y'].sum() )\n",
      "/users/ang.li/public/SoftDV/ML/GNN_SDV_Reco/Networks/GNN/gnn_base.py:124: UserWarning: To copy construct from a tensor, it is recommended to use sourceTensor.clone().detach() or sourceTensor.clone().detach().requires_grad_(True), rather than torch.tensor(sourceTensor).\n",
      "  pos_weight = torch.tensor((~input_d['edges_y'].bool()).sum() / input_d['edges_y'].sum() )\n",
      "/users/ang.li/public/SoftDV/ML/GNN_SDV_Reco/Networks/GNN/gnn_base.py:124: UserWarning: To copy construct from a tensor, it is recommended to use sourceTensor.clone().detach() or sourceTensor.clone().detach().requires_grad_(True), rather than torch.tensor(sourceTensor).\n",
      "  pos_weight = torch.tensor((~input_d['edges_y'].bool()).sum() / input_d['edges_y'].sum() )\n",
      "/users/ang.li/public/SoftDV/ML/GNN_SDV_Reco/Networks/GNN/gnn_base.py:124: UserWarning: To copy construct from a tensor, it is recommended to use sourceTensor.clone().detach() or sourceTensor.clone().detach().requires_grad_(True), rather than torch.tensor(sourceTensor).\n",
      "  pos_weight = torch.tensor((~input_d['edges_y'].bool()).sum() / input_d['edges_y'].sum() )\n",
      "/users/ang.li/public/SoftDV/ML/GNN_SDV_Reco/Networks/GNN/gnn_base.py:124: UserWarning: To copy construct from a tensor, it is recommended to use sourceTensor.clone().detach() or sourceTensor.clone().detach().requires_grad_(True), rather than torch.tensor(sourceTensor).\n",
      "  pos_weight = torch.tensor((~input_d['edges_y'].bool()).sum() / input_d['edges_y'].sum() )\n",
      "/users/ang.li/public/SoftDV/ML/GNN_SDV_Reco/Networks/GNN/gnn_base.py:124: UserWarning: To copy construct from a tensor, it is recommended to use sourceTensor.clone().detach() or sourceTensor.clone().detach().requires_grad_(True), rather than torch.tensor(sourceTensor).\n",
      "  pos_weight = torch.tensor((~input_d['edges_y'].bool()).sum() / input_d['edges_y'].sum() )\n",
      "/users/ang.li/public/SoftDV/ML/GNN_SDV_Reco/Networks/GNN/gnn_base.py:124: UserWarning: To copy construct from a tensor, it is recommended to use sourceTensor.clone().detach() or sourceTensor.clone().detach().requires_grad_(True), rather than torch.tensor(sourceTensor).\n",
      "  pos_weight = torch.tensor((~input_d['edges_y'].bool()).sum() / input_d['edges_y'].sum() )\n",
      "/users/ang.li/public/SoftDV/ML/GNN_SDV_Reco/Networks/GNN/gnn_base.py:124: UserWarning: To copy construct from a tensor, it is recommended to use sourceTensor.clone().detach() or sourceTensor.clone().detach().requires_grad_(True), rather than torch.tensor(sourceTensor).\n",
      "  pos_weight = torch.tensor((~input_d['edges_y'].bool()).sum() / input_d['edges_y'].sum() )\n"
     ]
    },
    {
     "name": "stdout",
     "output_type": "stream",
     "text": [
      "\n",
      "Epoch 1:  97%|██████████████████████████████████████████████████████▎ | 1059/1092 [00:50<00:01, 20.79it/s, loss=1.3, v_num=12]\u001b[A\n",
      "Epoch 1:  97%|██████████████████████████████████████████████████████▎ | 1060/1092 [00:50<00:01, 20.80it/s, loss=1.3, v_num=12]\u001b[A\n",
      "Epoch 1:  97%|██████████████████████████████████████████████████████▍ | 1061/1092 [00:50<00:01, 20.81it/s, loss=1.3, v_num=12]\u001b[A\n",
      "Epoch 1:  97%|██████████████████████████████████████████████████████▍ | 1062/1092 [00:51<00:01, 20.81it/s, loss=1.3, v_num=12]\u001b[A\n",
      "Epoch 1:  97%|██████████████████████████████████████████████████████▌ | 1063/1092 [00:51<00:01, 20.82it/s, loss=1.3, v_num=12]\u001b[A\n",
      "Epoch 1:  97%|██████████████████████████████████████████████████████▌ | 1064/1092 [00:51<00:01, 20.83it/s, loss=1.3, v_num=12]\u001b[A\n",
      "Epoch 1:  98%|██████████████████████████████████████████████████████▌ | 1065/1092 [00:51<00:01, 20.84it/s, loss=1.3, v_num=12]\u001b[A\n"
     ]
    },
    {
     "name": "stderr",
     "output_type": "stream",
     "text": [
      "/users/ang.li/public/SoftDV/ML/GNN_SDV_Reco/Networks/GNN/gnn_base.py:124: UserWarning: To copy construct from a tensor, it is recommended to use sourceTensor.clone().detach() or sourceTensor.clone().detach().requires_grad_(True), rather than torch.tensor(sourceTensor).\n",
      "  pos_weight = torch.tensor((~input_d['edges_y'].bool()).sum() / input_d['edges_y'].sum() )\n",
      "/users/ang.li/public/SoftDV/ML/GNN_SDV_Reco/Networks/GNN/gnn_base.py:124: UserWarning: To copy construct from a tensor, it is recommended to use sourceTensor.clone().detach() or sourceTensor.clone().detach().requires_grad_(True), rather than torch.tensor(sourceTensor).\n",
      "  pos_weight = torch.tensor((~input_d['edges_y'].bool()).sum() / input_d['edges_y'].sum() )\n",
      "/users/ang.li/public/SoftDV/ML/GNN_SDV_Reco/Networks/GNN/gnn_base.py:124: UserWarning: To copy construct from a tensor, it is recommended to use sourceTensor.clone().detach() or sourceTensor.clone().detach().requires_grad_(True), rather than torch.tensor(sourceTensor).\n",
      "  pos_weight = torch.tensor((~input_d['edges_y'].bool()).sum() / input_d['edges_y'].sum() )\n",
      "/users/ang.li/public/SoftDV/ML/GNN_SDV_Reco/Networks/GNN/gnn_base.py:124: UserWarning: To copy construct from a tensor, it is recommended to use sourceTensor.clone().detach() or sourceTensor.clone().detach().requires_grad_(True), rather than torch.tensor(sourceTensor).\n",
      "  pos_weight = torch.tensor((~input_d['edges_y'].bool()).sum() / input_d['edges_y'].sum() )\n",
      "/users/ang.li/public/SoftDV/ML/GNN_SDV_Reco/Networks/GNN/gnn_base.py:124: UserWarning: To copy construct from a tensor, it is recommended to use sourceTensor.clone().detach() or sourceTensor.clone().detach().requires_grad_(True), rather than torch.tensor(sourceTensor).\n",
      "  pos_weight = torch.tensor((~input_d['edges_y'].bool()).sum() / input_d['edges_y'].sum() )\n",
      "/users/ang.li/public/SoftDV/ML/GNN_SDV_Reco/Networks/GNN/gnn_base.py:124: UserWarning: To copy construct from a tensor, it is recommended to use sourceTensor.clone().detach() or sourceTensor.clone().detach().requires_grad_(True), rather than torch.tensor(sourceTensor).\n",
      "  pos_weight = torch.tensor((~input_d['edges_y'].bool()).sum() / input_d['edges_y'].sum() )\n",
      "/users/ang.li/public/SoftDV/ML/GNN_SDV_Reco/Networks/GNN/gnn_base.py:124: UserWarning: To copy construct from a tensor, it is recommended to use sourceTensor.clone().detach() or sourceTensor.clone().detach().requires_grad_(True), rather than torch.tensor(sourceTensor).\n",
      "  pos_weight = torch.tensor((~input_d['edges_y'].bool()).sum() / input_d['edges_y'].sum() )\n",
      "/users/ang.li/public/SoftDV/ML/GNN_SDV_Reco/Networks/GNN/gnn_base.py:124: UserWarning: To copy construct from a tensor, it is recommended to use sourceTensor.clone().detach() or sourceTensor.clone().detach().requires_grad_(True), rather than torch.tensor(sourceTensor).\n",
      "  pos_weight = torch.tensor((~input_d['edges_y'].bool()).sum() / input_d['edges_y'].sum() )\n"
     ]
    },
    {
     "name": "stdout",
     "output_type": "stream",
     "text": [
      "Epoch 1:  98%|██████████████████████████████████████████████████████▋ | 1066/1092 [00:51<00:01, 20.85it/s, loss=1.3, v_num=12]\u001b[A\n",
      "Epoch 1:  98%|██████████████████████████████████████████████████████▋ | 1067/1092 [00:51<00:01, 20.86it/s, loss=1.3, v_num=12]\u001b[A\n",
      "Epoch 1:  98%|██████████████████████████████████████████████████████▊ | 1068/1092 [00:51<00:01, 20.86it/s, loss=1.3, v_num=12]\u001b[A\n",
      "Epoch 1:  98%|██████████████████████████████████████████████████████▊ | 1069/1092 [00:51<00:01, 20.87it/s, loss=1.3, v_num=12]\u001b[A\n",
      "Epoch 1:  98%|██████████████████████████████████████████████████████▊ | 1070/1092 [00:51<00:01, 20.88it/s, loss=1.3, v_num=12]\u001b[A\n",
      "Epoch 1:  98%|██████████████████████████████████████████████████████▉ | 1071/1092 [00:51<00:01, 20.89it/s, loss=1.3, v_num=12]\u001b[A\n",
      "Epoch 1:  98%|██████████████████████████████████████████████████████▉ | 1072/1092 [00:51<00:00, 20.90it/s, loss=1.3, v_num=12]\u001b[A\n",
      "Epoch 1:  98%|███████████████████████████████████████████████████████ | 1073/1092 [00:51<00:00, 20.91it/s, loss=1.3, v_num=12]\u001b[A\n",
      "Epoch 1:  98%|███████████████████████████████████████████████████████ | 1074/1092 [00:51<00:00, 20.92it/s, loss=1.3, v_num=12]\u001b[A"
     ]
    },
    {
     "name": "stderr",
     "output_type": "stream",
     "text": [
      "/users/ang.li/public/SoftDV/ML/GNN_SDV_Reco/Networks/GNN/gnn_base.py:124: UserWarning: To copy construct from a tensor, it is recommended to use sourceTensor.clone().detach() or sourceTensor.clone().detach().requires_grad_(True), rather than torch.tensor(sourceTensor).\n",
      "  pos_weight = torch.tensor((~input_d['edges_y'].bool()).sum() / input_d['edges_y'].sum() )\n",
      "/users/ang.li/public/SoftDV/ML/GNN_SDV_Reco/Networks/GNN/gnn_base.py:124: UserWarning: To copy construct from a tensor, it is recommended to use sourceTensor.clone().detach() or sourceTensor.clone().detach().requires_grad_(True), rather than torch.tensor(sourceTensor).\n",
      "  pos_weight = torch.tensor((~input_d['edges_y'].bool()).sum() / input_d['edges_y'].sum() )\n",
      "/users/ang.li/public/SoftDV/ML/GNN_SDV_Reco/Networks/GNN/gnn_base.py:124: UserWarning: To copy construct from a tensor, it is recommended to use sourceTensor.clone().detach() or sourceTensor.clone().detach().requires_grad_(True), rather than torch.tensor(sourceTensor).\n",
      "  pos_weight = torch.tensor((~input_d['edges_y'].bool()).sum() / input_d['edges_y'].sum() )\n",
      "/users/ang.li/public/SoftDV/ML/GNN_SDV_Reco/Networks/GNN/gnn_base.py:124: UserWarning: To copy construct from a tensor, it is recommended to use sourceTensor.clone().detach() or sourceTensor.clone().detach().requires_grad_(True), rather than torch.tensor(sourceTensor).\n",
      "  pos_weight = torch.tensor((~input_d['edges_y'].bool()).sum() / input_d['edges_y'].sum() )\n",
      "/users/ang.li/public/SoftDV/ML/GNN_SDV_Reco/Networks/GNN/gnn_base.py:124: UserWarning: To copy construct from a tensor, it is recommended to use sourceTensor.clone().detach() or sourceTensor.clone().detach().requires_grad_(True), rather than torch.tensor(sourceTensor).\n",
      "  pos_weight = torch.tensor((~input_d['edges_y'].bool()).sum() / input_d['edges_y'].sum() )\n",
      "/users/ang.li/public/SoftDV/ML/GNN_SDV_Reco/Networks/GNN/gnn_base.py:124: UserWarning: To copy construct from a tensor, it is recommended to use sourceTensor.clone().detach() or sourceTensor.clone().detach().requires_grad_(True), rather than torch.tensor(sourceTensor).\n",
      "  pos_weight = torch.tensor((~input_d['edges_y'].bool()).sum() / input_d['edges_y'].sum() )\n",
      "/users/ang.li/public/SoftDV/ML/GNN_SDV_Reco/Networks/GNN/gnn_base.py:124: UserWarning: To copy construct from a tensor, it is recommended to use sourceTensor.clone().detach() or sourceTensor.clone().detach().requires_grad_(True), rather than torch.tensor(sourceTensor).\n",
      "  pos_weight = torch.tensor((~input_d['edges_y'].bool()).sum() / input_d['edges_y'].sum() )\n",
      "/users/ang.li/public/SoftDV/ML/GNN_SDV_Reco/Networks/GNN/gnn_base.py:124: UserWarning: To copy construct from a tensor, it is recommended to use sourceTensor.clone().detach() or sourceTensor.clone().detach().requires_grad_(True), rather than torch.tensor(sourceTensor).\n",
      "  pos_weight = torch.tensor((~input_d['edges_y'].bool()).sum() / input_d['edges_y'].sum() )\n"
     ]
    },
    {
     "name": "stdout",
     "output_type": "stream",
     "text": [
      "\n",
      "Epoch 1:  98%|███████████████████████████████████████████████████████▏| 1075/1092 [00:51<00:00, 20.93it/s, loss=1.3, v_num=12]\u001b[A\n",
      "Epoch 1:  99%|███████████████████████████████████████████████████████▏| 1076/1092 [00:51<00:00, 20.94it/s, loss=1.3, v_num=12]\u001b[A\n",
      "Epoch 1:  99%|███████████████████████████████████████████████████████▏| 1077/1092 [00:51<00:00, 20.95it/s, loss=1.3, v_num=12]\u001b[A\n",
      "Epoch 1:  99%|███████████████████████████████████████████████████████▎| 1078/1092 [00:51<00:00, 20.96it/s, loss=1.3, v_num=12]\u001b[A\n",
      "Epoch 1:  99%|███████████████████████████████████████████████████████▎| 1079/1092 [00:51<00:00, 20.97it/s, loss=1.3, v_num=12]\u001b[A\n",
      "Epoch 1:  99%|███████████████████████████████████████████████████████▍| 1080/1092 [00:51<00:00, 20.98it/s, loss=1.3, v_num=12]\u001b[A\n",
      "Epoch 1:  99%|███████████████████████████████████████████████████████▍| 1081/1092 [00:51<00:00, 20.99it/s, loss=1.3, v_num=12]\u001b[A\n",
      "Epoch 1:  99%|███████████████████████████████████████████████████████▍| 1082/1092 [00:51<00:00, 21.00it/s, loss=1.3, v_num=12]\u001b[A"
     ]
    },
    {
     "name": "stderr",
     "output_type": "stream",
     "text": [
      "/users/ang.li/public/SoftDV/ML/GNN_SDV_Reco/Networks/GNN/gnn_base.py:124: UserWarning: To copy construct from a tensor, it is recommended to use sourceTensor.clone().detach() or sourceTensor.clone().detach().requires_grad_(True), rather than torch.tensor(sourceTensor).\n",
      "  pos_weight = torch.tensor((~input_d['edges_y'].bool()).sum() / input_d['edges_y'].sum() )\n",
      "/users/ang.li/public/SoftDV/ML/GNN_SDV_Reco/Networks/GNN/gnn_base.py:124: UserWarning: To copy construct from a tensor, it is recommended to use sourceTensor.clone().detach() or sourceTensor.clone().detach().requires_grad_(True), rather than torch.tensor(sourceTensor).\n",
      "  pos_weight = torch.tensor((~input_d['edges_y'].bool()).sum() / input_d['edges_y'].sum() )\n",
      "/users/ang.li/public/SoftDV/ML/GNN_SDV_Reco/Networks/GNN/gnn_base.py:124: UserWarning: To copy construct from a tensor, it is recommended to use sourceTensor.clone().detach() or sourceTensor.clone().detach().requires_grad_(True), rather than torch.tensor(sourceTensor).\n",
      "  pos_weight = torch.tensor((~input_d['edges_y'].bool()).sum() / input_d['edges_y'].sum() )\n",
      "/users/ang.li/public/SoftDV/ML/GNN_SDV_Reco/Networks/GNN/gnn_base.py:124: UserWarning: To copy construct from a tensor, it is recommended to use sourceTensor.clone().detach() or sourceTensor.clone().detach().requires_grad_(True), rather than torch.tensor(sourceTensor).\n",
      "  pos_weight = torch.tensor((~input_d['edges_y'].bool()).sum() / input_d['edges_y'].sum() )\n",
      "/users/ang.li/public/SoftDV/ML/GNN_SDV_Reco/Networks/GNN/gnn_base.py:124: UserWarning: To copy construct from a tensor, it is recommended to use sourceTensor.clone().detach() or sourceTensor.clone().detach().requires_grad_(True), rather than torch.tensor(sourceTensor).\n",
      "  pos_weight = torch.tensor((~input_d['edges_y'].bool()).sum() / input_d['edges_y'].sum() )\n",
      "/users/ang.li/public/SoftDV/ML/GNN_SDV_Reco/Networks/GNN/gnn_base.py:124: UserWarning: To copy construct from a tensor, it is recommended to use sourceTensor.clone().detach() or sourceTensor.clone().detach().requires_grad_(True), rather than torch.tensor(sourceTensor).\n",
      "  pos_weight = torch.tensor((~input_d['edges_y'].bool()).sum() / input_d['edges_y'].sum() )\n",
      "/users/ang.li/public/SoftDV/ML/GNN_SDV_Reco/Networks/GNN/gnn_base.py:124: UserWarning: To copy construct from a tensor, it is recommended to use sourceTensor.clone().detach() or sourceTensor.clone().detach().requires_grad_(True), rather than torch.tensor(sourceTensor).\n",
      "  pos_weight = torch.tensor((~input_d['edges_y'].bool()).sum() / input_d['edges_y'].sum() )\n",
      "/users/ang.li/public/SoftDV/ML/GNN_SDV_Reco/Networks/GNN/gnn_base.py:124: UserWarning: To copy construct from a tensor, it is recommended to use sourceTensor.clone().detach() or sourceTensor.clone().detach().requires_grad_(True), rather than torch.tensor(sourceTensor).\n",
      "  pos_weight = torch.tensor((~input_d['edges_y'].bool()).sum() / input_d['edges_y'].sum() )\n",
      "/users/ang.li/public/SoftDV/ML/GNN_SDV_Reco/Networks/GNN/gnn_base.py:124: UserWarning: To copy construct from a tensor, it is recommended to use sourceTensor.clone().detach() or sourceTensor.clone().detach().requires_grad_(True), rather than torch.tensor(sourceTensor).\n",
      "  pos_weight = torch.tensor((~input_d['edges_y'].bool()).sum() / input_d['edges_y'].sum() )\n"
     ]
    },
    {
     "name": "stdout",
     "output_type": "stream",
     "text": [
      "\n",
      "Epoch 1:  99%|███████████████████████████████████████████████████████▌| 1083/1092 [00:51<00:00, 20.98it/s, loss=1.3, v_num=12]\u001b[A\n",
      "Epoch 1:  99%|███████████████████████████████████████████████████████▌| 1084/1092 [00:51<00:00, 20.99it/s, loss=1.3, v_num=12]\u001b[A\n",
      "Epoch 1:  99%|███████████████████████████████████████████████████████▋| 1085/1092 [00:51<00:00, 21.00it/s, loss=1.3, v_num=12]\u001b[A\n",
      "Epoch 1:  99%|███████████████████████████████████████████████████████▋| 1086/1092 [00:51<00:00, 20.99it/s, loss=1.3, v_num=12]\u001b[A\n",
      "Epoch 1: 100%|███████████████████████████████████████████████████████▋| 1087/1092 [00:51<00:00, 21.00it/s, loss=1.3, v_num=12]\u001b[A\n",
      "Epoch 1: 100%|███████████████████████████████████████████████████████▊| 1088/1092 [00:51<00:00, 21.01it/s, loss=1.3, v_num=12]\u001b[A\n",
      "Epoch 1: 100%|███████████████████████████████████████████████████████▊| 1089/1092 [00:51<00:00, 21.02it/s, loss=1.3, v_num=12]\u001b[A"
     ]
    },
    {
     "name": "stderr",
     "output_type": "stream",
     "text": [
      "/users/ang.li/public/SoftDV/ML/GNN_SDV_Reco/Networks/GNN/gnn_base.py:124: UserWarning: To copy construct from a tensor, it is recommended to use sourceTensor.clone().detach() or sourceTensor.clone().detach().requires_grad_(True), rather than torch.tensor(sourceTensor).\n",
      "  pos_weight = torch.tensor((~input_d['edges_y'].bool()).sum() / input_d['edges_y'].sum() )\n",
      "/users/ang.li/public/SoftDV/ML/GNN_SDV_Reco/Networks/GNN/gnn_base.py:124: UserWarning: To copy construct from a tensor, it is recommended to use sourceTensor.clone().detach() or sourceTensor.clone().detach().requires_grad_(True), rather than torch.tensor(sourceTensor).\n",
      "  pos_weight = torch.tensor((~input_d['edges_y'].bool()).sum() / input_d['edges_y'].sum() )\n",
      "/users/ang.li/public/SoftDV/ML/GNN_SDV_Reco/Networks/GNN/gnn_base.py:124: UserWarning: To copy construct from a tensor, it is recommended to use sourceTensor.clone().detach() or sourceTensor.clone().detach().requires_grad_(True), rather than torch.tensor(sourceTensor).\n",
      "  pos_weight = torch.tensor((~input_d['edges_y'].bool()).sum() / input_d['edges_y'].sum() )\n",
      "/users/ang.li/public/SoftDV/ML/GNN_SDV_Reco/Networks/GNN/gnn_base.py:124: UserWarning: To copy construct from a tensor, it is recommended to use sourceTensor.clone().detach() or sourceTensor.clone().detach().requires_grad_(True), rather than torch.tensor(sourceTensor).\n",
      "  pos_weight = torch.tensor((~input_d['edges_y'].bool()).sum() / input_d['edges_y'].sum() )\n",
      "/users/ang.li/public/SoftDV/ML/GNN_SDV_Reco/Networks/GNN/gnn_base.py:124: UserWarning: To copy construct from a tensor, it is recommended to use sourceTensor.clone().detach() or sourceTensor.clone().detach().requires_grad_(True), rather than torch.tensor(sourceTensor).\n",
      "  pos_weight = torch.tensor((~input_d['edges_y'].bool()).sum() / input_d['edges_y'].sum() )\n",
      "/users/ang.li/public/SoftDV/ML/GNN_SDV_Reco/Networks/GNN/gnn_base.py:124: UserWarning: To copy construct from a tensor, it is recommended to use sourceTensor.clone().detach() or sourceTensor.clone().detach().requires_grad_(True), rather than torch.tensor(sourceTensor).\n",
      "  pos_weight = torch.tensor((~input_d['edges_y'].bool()).sum() / input_d['edges_y'].sum() )\n",
      "/users/ang.li/public/SoftDV/ML/GNN_SDV_Reco/Networks/GNN/gnn_base.py:124: UserWarning: To copy construct from a tensor, it is recommended to use sourceTensor.clone().detach() or sourceTensor.clone().detach().requires_grad_(True), rather than torch.tensor(sourceTensor).\n",
      "  pos_weight = torch.tensor((~input_d['edges_y'].bool()).sum() / input_d['edges_y'].sum() )\n"
     ]
    },
    {
     "name": "stdout",
     "output_type": "stream",
     "text": [
      "\n",
      "Epoch 1: 100%|███████████████████████████████████████████████████████▉| 1090/1092 [00:51<00:00, 21.03it/s, loss=1.3, v_num=12]\u001b[A\n",
      "Epoch 1: 100%|███████████████████████████████████████████████████████▉| 1091/1092 [00:51<00:00, 21.04it/s, loss=1.3, v_num=12]\u001b[A\n",
      "Epoch 1: 100%|████████████████████████████████████████████████████████| 1092/1092 [00:51<00:00, 21.04it/s, loss=1.3, v_num=12]\u001b[A\n",
      "Epoch 1: 100%|████████████████████████████████████████████████████████| 1092/1092 [00:51<00:00, 21.04it/s, loss=1.3, v_num=12]\u001b[A"
     ]
    },
    {
     "name": "stderr",
     "output_type": "stream",
     "text": [
      "/users/ang.li/public/SoftDV/ML/GNN_SDV_Reco/Networks/GNN/gnn_base.py:124: UserWarning: To copy construct from a tensor, it is recommended to use sourceTensor.clone().detach() or sourceTensor.clone().detach().requires_grad_(True), rather than torch.tensor(sourceTensor).\n",
      "  pos_weight = torch.tensor((~input_d['edges_y'].bool()).sum() / input_d['edges_y'].sum() )\n",
      "/users/ang.li/public/SoftDV/ML/GNN_SDV_Reco/Networks/GNN/gnn_base.py:124: UserWarning: To copy construct from a tensor, it is recommended to use sourceTensor.clone().detach() or sourceTensor.clone().detach().requires_grad_(True), rather than torch.tensor(sourceTensor).\n",
      "  pos_weight = torch.tensor((~input_d['edges_y'].bool()).sum() / input_d['edges_y'].sum() )\n",
      "INFO:`Trainer.fit` stopped: `max_epochs=2` reached.\n"
     ]
    },
    {
     "name": "stdout",
     "output_type": "stream",
     "text": [
      "Epoch 1: 100%|████████████████████████████████████████████████████████| 1092/1092 [00:51<00:00, 21.02it/s, loss=1.3, v_num=12]\n"
     ]
    }
   ],
   "source": [
    "trainer.fit(model)\n",
    "trainer.save_checkpoint(os.path.join(save_directory, \"testrun.ckpt\"))"
   ]
  },
  {
   "cell_type": "code",
   "execution_count": null,
   "id": "6524da5a-7080-4739-990b-96e09ee19215",
   "metadata": {},
   "outputs": [],
   "source": []
  }
 ],
 "metadata": {
  "kernelspec": {
   "display_name": "Python 3 (ipykernel)",
   "language": "python",
   "name": "python3"
  },
  "language_info": {
   "codemirror_mode": {
    "name": "ipython",
    "version": 3
   },
   "file_extension": ".py",
   "mimetype": "text/x-python",
   "name": "python",
   "nbconvert_exporter": "python",
   "pygments_lexer": "ipython3",
   "version": "3.9.19"
  }
 },
 "nbformat": 4,
 "nbformat_minor": 5
}
