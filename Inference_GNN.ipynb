{
 "cells": [
  {
   "cell_type": "code",
   "execution_count": 1,
   "id": "5020c05f-d8b6-4d0a-b5e7-25aa5747bddd",
   "metadata": {},
   "outputs": [
    {
     "name": "stderr",
     "output_type": "stream",
     "text": [
      "/users/ang.li/anaconda3/envs/exatrkx-cpu/lib/python3.9/site-packages/tqdm/auto.py:21: TqdmWarning: IProgress not found. Please update jupyter and ipywidgets. See https://ipywidgets.readthedocs.io/en/stable/user_install.html\n",
      "  from .autonotebook import tqdm as notebook_tqdm\n",
      "INFO:Created a temporary directory at /tmp/tmplnph3tch\n",
      "INFO:Writing /tmp/tmplnph3tch/_remote_module_non_scriptable.py\n",
      "INFO:Loading faiss with AVX512 support.\n",
      "INFO:Successfully loaded faiss with AVX512 support.\n"
     ]
    }
   ],
   "source": [
    "import sys\n",
    "import os\n",
    "import yaml\n",
    "import argparse\n",
    "import logging\n",
    "logging.basicConfig(level=logging.INFO, format='%(levelname)s:%(message)s')\n",
    "\n",
    "from pytorch_lightning import Trainer\n",
    "from pytorch_lightning.loggers import CSVLogger\n",
    "import torch\n",
    "from torch_geometric.loader import DataLoader\n",
    "\n",
    "from Networks.GNN.InteractionNetwork import InteractionNetwork\n",
    "from Networks.utils import *"
   ]
  },
  {
   "cell_type": "code",
   "execution_count": 2,
   "id": "f374f357-50cf-4e13-a038-f4b49451d363",
   "metadata": {},
   "outputs": [],
   "source": [
    "# Load config file\n",
    "with open('gnn_config.yaml') as c:\n",
    "    cl = yaml.load(c, Loader=yaml.FullLoader)\n",
    "    config = cl['gnn_learning_configs']"
   ]
  },
  {
   "cell_type": "code",
   "execution_count": 3,
   "id": "318c3abd-cb92-484f-9510-6d9bb4886715",
   "metadata": {},
   "outputs": [],
   "source": [
    "model = InteractionNetwork(config)"
   ]
  },
  {
   "cell_type": "code",
   "execution_count": 1,
   "id": "30e70186-0334-4109-9ae9-6709b709f682",
   "metadata": {},
   "outputs": [
    {
     "ename": "NameError",
     "evalue": "name 'load_dataset' is not defined",
     "output_type": "error",
     "traceback": [
      "\u001b[0;31m---------------------------------------------------------------------------\u001b[0m",
      "\u001b[0;31mNameError\u001b[0m                                 Traceback (most recent call last)",
      "Input \u001b[0;32mIn [1]\u001b[0m, in \u001b[0;36m<cell line: 1>\u001b[0;34m()\u001b[0m\n\u001b[0;32m----> 1\u001b[0m d \u001b[38;5;241m=\u001b[39m \u001b[43mload_dataset\u001b[49m(\u001b[38;5;124m'\u001b[39m\u001b[38;5;124mEMB_out\u001b[39m\u001b[38;5;124m'\u001b[39m)\n\u001b[1;32m      2\u001b[0m dl \u001b[38;5;241m=\u001b[39m DataLoader(d,batch_size\u001b[38;5;241m=\u001b[39m\u001b[38;5;241m1\u001b[39m)\n\u001b[1;32m      3\u001b[0m trainer \u001b[38;5;241m=\u001b[39m Trainer()\n",
      "\u001b[0;31mNameError\u001b[0m: name 'load_dataset' is not defined"
     ]
    }
   ],
   "source": [
    "d = load_dataset('EMB_out')\n",
    "dl = DataLoader(d,batch_size=1)\n",
    "trainer = Trainer()\n",
    "res = trainer.predict(model,dl,ckpt_path='GNN_dist0p15_0509/model-epoch=198-val_loss=0.45724.ckpt')"
   ]
  },
  {
   "cell_type": "code",
   "execution_count": 5,
   "id": "3c459e3e-04a7-4fec-ad9f-ad0608b60ac0",
   "metadata": {},
   "outputs": [
    {
     "name": "stdout",
     "output_type": "stream",
     "text": [
      "torch.Size([1562])\n"
     ]
    }
   ],
   "source": [
    "print(res[0]['truth'].shape)"
   ]
  },
  {
   "cell_type": "code",
   "execution_count": 6,
   "id": "35aea7b8-a5bb-4b32-83a9-a80e02ce4334",
   "metadata": {},
   "outputs": [
    {
     "data": {
      "text/plain": [
       "{'loss': tensor(1.3554),\n",
       " 'score': tensor([0.5172, 0.1857, 0.5134,  ..., 0.2543, 0.1923, 0.2088]),\n",
       " 'preds': tensor([ True, False,  True,  ..., False, False, False]),\n",
       " 'truth': tensor([False, False, False,  ..., False, False, False])}"
      ]
     },
     "execution_count": 6,
     "metadata": {},
     "output_type": "execute_result"
    }
   ],
   "source": [
    "res[5]"
   ]
  },
  {
   "cell_type": "code",
   "execution_count": 7,
   "id": "000ffebd-5b2d-47ab-8791-fdf7e40342e4",
   "metadata": {},
   "outputs": [
    {
     "data": {
      "text/plain": [
       "tensor([False,  True, False,  True, False, False, False, False,  True, False,\n",
       "        False,  True, False, False, False, False,  True, False,  True, False])"
      ]
     },
     "execution_count": 7,
     "metadata": {},
     "output_type": "execute_result"
    }
   ],
   "source": [
    "res[5]['preds'][res[5]['truth']==True]"
   ]
  },
  {
   "cell_type": "code",
   "execution_count": null,
   "id": "c8a96155-a06c-4c21-9416-b9d5f4344234",
   "metadata": {},
   "outputs": [],
   "source": []
  }
 ],
 "metadata": {
  "kernelspec": {
   "display_name": "Python 3",
   "language": "python",
   "name": "python3"
  },
  "language_info": {
   "codemirror_mode": {
    "name": "ipython",
    "version": 3
   },
   "file_extension": ".py",
   "mimetype": "text/x-python",
   "name": "python",
   "nbconvert_exporter": "python",
   "pygments_lexer": "ipython3",
   "version": "3.9.12"
  }
 },
 "nbformat": 4,
 "nbformat_minor": 5
}
