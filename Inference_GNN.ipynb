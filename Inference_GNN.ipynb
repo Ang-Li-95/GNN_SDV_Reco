{
 "cells": [
  {
   "cell_type": "code",
   "execution_count": 1,
   "id": "5020c05f-d8b6-4d0a-b5e7-25aa5747bddd",
   "metadata": {},
   "outputs": [
    {
     "name": "stderr",
     "output_type": "stream",
     "text": [
      "/users/ang.li/anaconda3/envs/exatrkx-cpu/lib/python3.9/site-packages/tqdm/auto.py:21: TqdmWarning: IProgress not found. Please update jupyter and ipywidgets. See https://ipywidgets.readthedocs.io/en/stable/user_install.html\n",
      "  from .autonotebook import tqdm as notebook_tqdm\n",
      "INFO:Created a temporary directory at /tmp/tmplnph3tch\n",
      "INFO:Writing /tmp/tmplnph3tch/_remote_module_non_scriptable.py\n",
      "INFO:Loading faiss with AVX512 support.\n",
      "INFO:Successfully loaded faiss with AVX512 support.\n"
     ]
    }
   ],
   "source": [
    "import sys\n",
    "import os\n",
    "import yaml\n",
    "import argparse\n",
    "import logging\n",
    "logging.basicConfig(level=logging.INFO, format='%(levelname)s:%(message)s')\n",
    "\n",
    "from pytorch_lightning import Trainer\n",
    "from pytorch_lightning.loggers import CSVLogger\n",
    "import torch\n",
    "from torch_geometric.loader import DataLoader\n",
    "\n",
    "from Networks.GNN.InteractionNetwork import InteractionNetwork\n",
    "from Networks.utils import *"
   ]
  },
  {
   "cell_type": "code",
   "execution_count": 2,
   "id": "f374f357-50cf-4e13-a038-f4b49451d363",
   "metadata": {},
   "outputs": [],
   "source": [
    "# Load config file\n",
    "with open('gnn_config.yaml') as c:\n",
    "    cl = yaml.load(c, Loader=yaml.FullLoader)\n",
    "    config = cl['gnn_learning_configs']"
   ]
  },
  {
   "cell_type": "code",
   "execution_count": 3,
   "id": "318c3abd-cb92-484f-9510-6d9bb4886715",
   "metadata": {},
   "outputs": [],
   "source": [
    "model = InteractionNetwork(config)"
   ]
  },
  {
   "cell_type": "code",
   "execution_count": 4,
   "id": "30e70186-0334-4109-9ae9-6709b709f682",
   "metadata": {},
   "outputs": [
    {
     "name": "stderr",
     "output_type": "stream",
     "text": [
      "/users/ang.li/anaconda3/envs/exatrkx-cpu/lib/python3.9/site-packages/lightning_fabric/plugins/environments/slurm.py:166: PossibleUserWarning: The `srun` command is available on your system but is not used. HINT: If your intention is to run Lightning on SLURM, prepend your python command with `srun` like so: srun python /users/ang.li/anaconda3/envs/exatrkx-cpu/lib/python3 ...\n",
      "  rank_zero_warn(\n",
      "INFO:GPU available: False, used: False\n",
      "INFO:TPU available: False, using: 0 TPU cores\n",
      "INFO:IPU available: False, using: 0 IPUs\n",
      "INFO:HPU available: False, using: 0 HPUs\n",
      "/users/ang.li/anaconda3/envs/exatrkx-cpu/lib/python3.9/site-packages/pytorch_lightning/trainer/connectors/logger_connector/logger_connector.py:67: UserWarning: Starting from v1.9.0, `tensorboardX` has been removed as a dependency of the `pytorch_lightning` package, due to potential conflicts with other packages in the ML ecosystem. For this reason, `logger=True` will use `CSVLogger` as the default logger, unless the `tensorboard` or `tensorboardX` packages are found. Please `pip install lightning[extra]` or one of them to enable TensorBoard support by default\n",
      "  warning_cache.warn(\n",
      "INFO:Restoring states from the checkpoint path at GNN_out/testrun.ckpt\n",
      "INFO:Loaded model weights from checkpoint at GNN_out/testrun.ckpt\n",
      "/users/ang.li/anaconda3/envs/exatrkx-cpu/lib/python3.9/site-packages/pytorch_lightning/trainer/connectors/data_connector.py:224: PossibleUserWarning: The dataloader, predict_dataloader 0, does not have many workers which may be a bottleneck. Consider increasing the value of the `num_workers` argument` (try 76 which is the number of cpus on this machine) in the `DataLoader` init to improve performance.\n",
      "  rank_zero_warn(\n"
     ]
    },
    {
     "name": "stdout",
     "output_type": "stream",
     "text": [
      "Predicting DataLoader 0: 100%|████████████████████████████████████████████████████████████| 1183/1183 [00:13<00:00, 88.87it/s]\n"
     ]
    }
   ],
   "source": [
    "d = load_dataset('EMB_out')\n",
    "dl = DataLoader(d,batch_size=1)\n",
    "trainer = Trainer()\n",
    "res = trainer.predict(model,dl,ckpt_path='GNN_out/testrun.ckpt')"
   ]
  },
  {
   "cell_type": "code",
   "execution_count": 5,
   "id": "3c459e3e-04a7-4fec-ad9f-ad0608b60ac0",
   "metadata": {},
   "outputs": [
    {
     "name": "stdout",
     "output_type": "stream",
     "text": [
      "torch.Size([1562])\n"
     ]
    }
   ],
   "source": [
    "print(res[0]['truth'].shape)"
   ]
  },
  {
   "cell_type": "code",
   "execution_count": 6,
   "id": "35aea7b8-a5bb-4b32-83a9-a80e02ce4334",
   "metadata": {},
   "outputs": [
    {
     "data": {
      "text/plain": [
       "{'loss': tensor(1.3554),\n",
       " 'score': tensor([0.5172, 0.1857, 0.5134,  ..., 0.2543, 0.1923, 0.2088]),\n",
       " 'preds': tensor([ True, False,  True,  ..., False, False, False]),\n",
       " 'truth': tensor([False, False, False,  ..., False, False, False])}"
      ]
     },
     "execution_count": 6,
     "metadata": {},
     "output_type": "execute_result"
    }
   ],
   "source": [
    "res[5]"
   ]
  },
  {
   "cell_type": "code",
   "execution_count": 7,
   "id": "000ffebd-5b2d-47ab-8791-fdf7e40342e4",
   "metadata": {},
   "outputs": [
    {
     "data": {
      "text/plain": [
       "tensor([False,  True, False,  True, False, False, False, False,  True, False,\n",
       "        False,  True, False, False, False, False,  True, False,  True, False])"
      ]
     },
     "execution_count": 7,
     "metadata": {},
     "output_type": "execute_result"
    }
   ],
   "source": [
    "res[5]['preds'][res[5]['truth']==True]"
   ]
  },
  {
   "cell_type": "code",
   "execution_count": null,
   "id": "c8a96155-a06c-4c21-9416-b9d5f4344234",
   "metadata": {},
   "outputs": [],
   "source": []
  }
 ],
 "metadata": {
  "kernelspec": {
   "display_name": "Python 3 (ipykernel)",
   "language": "python",
   "name": "python3"
  },
  "language_info": {
   "codemirror_mode": {
    "name": "ipython",
    "version": 3
   },
   "file_extension": ".py",
   "mimetype": "text/x-python",
   "name": "python",
   "nbconvert_exporter": "python",
   "pygments_lexer": "ipython3",
   "version": "3.9.19"
  }
 },
 "nbformat": 4,
 "nbformat_minor": 5
}
