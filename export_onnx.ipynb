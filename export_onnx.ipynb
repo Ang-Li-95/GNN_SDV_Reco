{
 "cells": [
  {
   "cell_type": "code",
   "execution_count": 1,
   "id": "b25ac791-1c41-4fb1-bf2a-b1ed466dca13",
   "metadata": {},
   "outputs": [
    {
     "name": "stderr",
     "output_type": "stream",
     "text": [
      "INFO:Loading faiss with AVX512 support.\n",
      "INFO:Successfully loaded faiss with AVX512 support.\n"
     ]
    }
   ],
   "source": [
    "import sys\n",
    "import os\n",
    "import yaml\n",
    "import argparse\n",
    "import logging\n",
    "logging.basicConfig(level=logging.INFO, format='%(levelname)s:%(message)s')\n",
    "\n",
    "import onnx\n",
    "import onnxruntime\n",
    "\n",
    "from lightning import Trainer\n",
    "from pytorch_lightning.loggers import CSVLogger\n",
    "import torch\n",
    "from torch_geometric.loader import DataLoader\n",
    "\n",
    "from Networks.Embedding.embedding import Embedding\n",
    "from Networks.GNN.InteractionNetwork import InteractionNetwork\n",
    "from Networks.utils import *\n"
   ]
  },
  {
   "cell_type": "markdown",
   "id": "31ba49d1-7e51-46f5-b496-81560ac080e3",
   "metadata": {},
   "source": [
    "### Export Embedding model"
   ]
  },
  {
   "cell_type": "code",
   "execution_count": 2,
   "id": "cc3eae80-a92c-4e78-8e6c-068698b786eb",
   "metadata": {},
   "outputs": [
    {
     "name": "stderr",
     "output_type": "stream",
     "text": [
      "/users/ang.li/anaconda3/envs/gnn_cpu/lib/python3.9/site-packages/torch/onnx/utils.py:2098: UserWarning: No names were found for specified dynamic axes of provided input.Automatically generated names will be applied to each dynamic axes of input input_tk\n",
      "  warnings.warn(\n",
      "/users/ang.li/public/SoftDV/ML/GNN_SDV_Reco/Networks/Embedding/embedding.py:76: TracerWarning: torch.tensor results are registered as constants in the trace. You can safely ignore this warning if you use this function to create tensors out of constant variables that would be the same every time you call this function. In any other case, this might cause the trace to be incorrect.\n",
      "  scale_mean = torch.tensor([1.6466, -0.0012, -0.0039, -0.1067, 0.0449, -0.0283, 0.1674, 12.7531, 0.0178, 1.1603, 14.7395])\n",
      "/users/ang.li/public/SoftDV/ML/GNN_SDV_Reco/Networks/Embedding/embedding.py:77: TracerWarning: torch.tensor results are registered as constants in the trace. You can safely ignore this warning if you use this function to create tensors out of constant variables that would be the same every time you call this function. In any other case, this might cause the trace to be incorrect.\n",
      "  scale_std = torch.tensor([3.4727, 0.7561, 1.8255, 4.6112, 0.0789, 10.1196, 0.5957, 56.4042, 0.0412, 0.7702, 4.3868])\n"
     ]
    }
   ],
   "source": [
    "d = torch.load(\"Datasets/stop_M600_588_ct200_2018.pt\")\n",
    "#model = Embedding.load_from_checkpoint(\"EMB_out_0502_2/model-epoch=57-val_loss=0.00285.ckpt\")\n",
    "model = Embedding.load_from_checkpoint(\"EMB_0603_3/model-epoch=105-val_loss=0.00292.ckpt\")\n",
    "input_sample = d[0].x.float()\n",
    "model.to_onnx('EMB_0603_3.onnx', input_sample, input_names=['input_tk'], output_names=['emb'], export_params=True,opset_version=12,dynamic_axes={\"input_tk\":[0]})"
   ]
  },
  {
   "cell_type": "markdown",
   "id": "499ff7f4-78c3-4646-9436-b39ea04b43da",
   "metadata": {},
   "source": [
    "### Export GNN model"
   ]
  },
  {
   "cell_type": "code",
   "execution_count": 100,
   "id": "1fe1316d-b226-49ae-9f59-ca3bc1fba802",
   "metadata": {},
   "outputs": [],
   "source": [
    "dgnn = torch.load(\"EMB_out_0502_2_output_rtest0p15_filtered_newweight/train/stop_M600_588_ct200_2018.pt\")\n",
    "input_sample = tuple((dgnn[0].x.float(),dgnn[0].pred_edges_emb))\n",
    "model = InteractionNetwork.load_from_checkpoint(\"../GNN_SDV_Reco_localtest/GNN_dist0p15_0509/model-epoch=198-val_loss=0.45724.ckpt\")\n",
    "model.to_onnx('GNN_1.onnx', input_sample, input_names=['input_tk','input_edges'], output_names=['gnn'], export_params=True,opset_version=12,dynamic_axes={\"input_tk\":[0],\"input_edges\":[1]})"
   ]
  },
  {
   "cell_type": "code",
   "execution_count": 101,
   "id": "09bd3901-ba75-4a58-9d7e-93910cafebf4",
   "metadata": {
    "collapsed": true,
    "jupyter": {
     "outputs_hidden": true
    },
    "tags": []
   },
   "outputs": [
    {
     "name": "stderr",
     "output_type": "stream",
     "text": [
      "2024-05-22 16:14:23.425573183 [E:onnxruntime:Default, env.cc:254 ThreadMain] pthread_setaffinity_np failed for thread: 44229, index: 0, mask: {2, 3, }, error code: 22 error msg: Invalid argument. Specify the number of threads explicitly so the affinity is not set.\n",
      "2024-05-22 16:14:23.425584819 [E:onnxruntime:Default, env.cc:254 ThreadMain] pthread_setaffinity_np failed for thread: 44230, index: 1, mask: {4, 5, }, error code: 22 error msg: Invalid argument. Specify the number of threads explicitly so the affinity is not set.\n",
      "2024-05-22 16:14:23.425638652 [E:onnxruntime:Default, env.cc:254 ThreadMain] pthread_setaffinity_np failed for thread: 44233, index: 4, mask: {10, 11, }, error code: 22 error msg: Invalid argument. Specify the number of threads explicitly so the affinity is not set.\n",
      "2024-05-22 16:14:23.425646261 [E:onnxruntime:Default, env.cc:254 ThreadMain] pthread_setaffinity_np failed for thread: 44234, index: 5, mask: {12, 13, }, error code: 22 error msg: Invalid argument. Specify the number of threads explicitly so the affinity is not set.\n",
      "2024-05-22 16:14:23.425660867 [E:onnxruntime:Default, env.cc:254 ThreadMain] pthread_setaffinity_np failed for thread: 44235, index: 6, mask: {14, 15, }, error code: 22 error msg: Invalid argument. Specify the number of threads explicitly so the affinity is not set.\n",
      "2024-05-22 16:14:23.425679748 [E:onnxruntime:Default, env.cc:254 ThreadMain] pthread_setaffinity_np failed for thread: 44237, index: 8, mask: {18, 19, }, error code: 22 error msg: Invalid argument. Specify the number of threads explicitly so the affinity is not set.\n",
      "2024-05-22 16:14:23.425691644 [E:onnxruntime:Default, env.cc:254 ThreadMain] pthread_setaffinity_np failed for thread: 44238, index: 9, mask: {20, 21, }, error code: 22 error msg: Invalid argument. Specify the number of threads explicitly so the affinity is not set.\n",
      "2024-05-22 16:14:23.425701790 [E:onnxruntime:Default, env.cc:254 ThreadMain] pthread_setaffinity_np failed for thread: 44232, index: 3, mask: {8, 9, }, error code: 22 error msg: Invalid argument. Specify the number of threads explicitly so the affinity is not set.\n",
      "2024-05-22 16:14:23.425739176 [E:onnxruntime:Default, env.cc:254 ThreadMain] pthread_setaffinity_np failed for thread: 44242, index: 13, mask: {28, 29, }, error code: 22 error msg: Invalid argument. Specify the number of threads explicitly so the affinity is not set.\n",
      "2024-05-22 16:14:23.426337678 [E:onnxruntime:Default, env.cc:254 ThreadMain] pthread_setaffinity_np failed for thread: 44260, index: 31, mask: {64, 65, }, error code: 22 error msg: Invalid argument. Specify the number of threads explicitly so the affinity is not set.\n",
      "2024-05-22 16:14:23.425701788 [E:onnxruntime:Default, env.cc:254 ThreadMain] pthread_setaffinity_np failed for thread: 44231, index: 2, mask: {6, 7, }, error code: 22 error msg: Invalid argument. Specify the number of threads explicitly so the affinity is not set.\n",
      "2024-05-22 16:14:23.437107291 [E:onnxruntime:Default, env.cc:254 ThreadMain] pthread_setaffinity_np failed for thread: 44261, index: 32, mask: {66, 67, }, error code: 22 error msg: Invalid argument. Specify the number of threads explicitly so the affinity is not set.\n",
      "2024-05-22 16:14:23.439081671 [E:onnxruntime:Default, env.cc:254 ThreadMain] pthread_setaffinity_np failed for thread: 44258, index: 29, mask: {60, 61, }, error code: 22 error msg: Invalid argument. Specify the number of threads explicitly so the affinity is not set.\n",
      "2024-05-22 16:14:23.443097648 [E:onnxruntime:Default, env.cc:254 ThreadMain] pthread_setaffinity_np failed for thread: 44236, index: 7, mask: {16, 17, }, error code: 22 error msg: Invalid argument. Specify the number of threads explicitly so the affinity is not set.\n",
      "2024-05-22 16:14:23.448533488 [E:onnxruntime:Default, env.cc:254 ThreadMain] pthread_setaffinity_np failed for thread: 44239, index: 10, mask: {22, 23, }, error code: 22 error msg: Invalid argument. Specify the number of threads explicitly so the affinity is not set.\n",
      "2024-05-22 16:14:23.448577590 [E:onnxruntime:Default, env.cc:254 ThreadMain] pthread_setaffinity_np failed for thread: 44243, index: 14, mask: {30, 31, }, error code: 22 error msg: Invalid argument. Specify the number of threads explicitly so the affinity is not set.\n",
      "2024-05-22 16:14:23.459081999 [E:onnxruntime:Default, env.cc:254 ThreadMain] pthread_setaffinity_np failed for thread: 44245, index: 16, mask: {34, 35, }, error code: 22 error msg: Invalid argument. Specify the number of threads explicitly so the affinity is not set.\n",
      "2024-05-22 16:14:23.459087200 [E:onnxruntime:Default, env.cc:254 ThreadMain] pthread_setaffinity_np failed for thread: 44240, index: 11, mask: {24, 25, }, error code: 22 error msg: Invalid argument. Specify the number of threads explicitly so the affinity is not set.\n",
      "2024-05-22 16:14:23.459099065 [E:onnxruntime:Default, env.cc:254 ThreadMain] pthread_setaffinity_np failed for thread: 44262, index: 33, mask: {68, 69, }, error code: 22 error msg: Invalid argument. Specify the number of threads explicitly so the affinity is not set.\n",
      "2024-05-22 16:14:23.460079073 [E:onnxruntime:Default, env.cc:254 ThreadMain] pthread_setaffinity_np failed for thread: 44241, index: 12, mask: {26, 27, }, error code: 22 error msg: Invalid argument. Specify the number of threads explicitly so the affinity is not set.\n",
      "2024-05-22 16:14:23.469079232 [E:onnxruntime:Default, env.cc:254 ThreadMain] pthread_setaffinity_np failed for thread: 44244, index: 15, mask: {32, 33, }, error code: 22 error msg: Invalid argument. Specify the number of threads explicitly so the affinity is not set.\n",
      "2024-05-22 16:14:23.470089086 [E:onnxruntime:Default, env.cc:254 ThreadMain] pthread_setaffinity_np failed for thread: 44263, index: 34, mask: {70, 71, }, error code: 22 error msg: Invalid argument. Specify the number of threads explicitly so the affinity is not set.\n",
      "2024-05-22 16:14:23.470954985 [E:onnxruntime:Default, env.cc:254 ThreadMain] pthread_setaffinity_np failed for thread: 44252, index: 23, mask: {48, 49, }, error code: 22 error msg: Invalid argument. Specify the number of threads explicitly so the affinity is not set.\n",
      "2024-05-22 16:14:23.470985634 [E:onnxruntime:Default, env.cc:254 ThreadMain] pthread_setaffinity_np failed for thread: 44255, index: 26, mask: {54, 55, }, error code: 22 error msg: Invalid argument. Specify the number of threads explicitly so the affinity is not set.\n",
      "2024-05-22 16:14:23.471081914 [E:onnxruntime:Default, env.cc:254 ThreadMain] pthread_setaffinity_np failed for thread: 44247, index: 18, mask: {38, 39, }, error code: 22 error msg: Invalid argument. Specify the number of threads explicitly so the affinity is not set.\n",
      "2024-05-22 16:14:23.474266573 [E:onnxruntime:Default, env.cc:254 ThreadMain] pthread_setaffinity_np failed for thread: 44246, index: 17, mask: {36, 37, }, error code: 22 error msg: Invalid argument. Specify the number of threads explicitly so the affinity is not set.\n",
      "2024-05-22 16:14:23.479318804 [E:onnxruntime:Default, env.cc:254 ThreadMain] pthread_setaffinity_np failed for thread: 44253, index: 24, mask: {50, 51, }, error code: 22 error msg: Invalid argument. Specify the number of threads explicitly so the affinity is not set.\n",
      "2024-05-22 16:14:23.481089054 [E:onnxruntime:Default, env.cc:254 ThreadMain] pthread_setaffinity_np failed for thread: 44264, index: 35, mask: {72, 73, }, error code: 22 error msg: Invalid argument. Specify the number of threads explicitly so the affinity is not set.\n",
      "2024-05-22 16:14:23.482096621 [E:onnxruntime:Default, env.cc:254 ThreadMain] pthread_setaffinity_np failed for thread: 44257, index: 28, mask: {58, 59, }, error code: 22 error msg: Invalid argument. Specify the number of threads explicitly so the affinity is not set.\n",
      "2024-05-22 16:14:23.492089550 [E:onnxruntime:Default, env.cc:254 ThreadMain] pthread_setaffinity_np failed for thread: 44265, index: 36, mask: {74, 75, }, error code: 22 error msg: Invalid argument. Specify the number of threads explicitly so the affinity is not set.\n",
      "2024-05-22 16:14:23.494520620 [E:onnxruntime:Default, env.cc:254 ThreadMain] pthread_setaffinity_np failed for thread: 44254, index: 25, mask: {52, 53, }, error code: 22 error msg: Invalid argument. Specify the number of threads explicitly so the affinity is not set.\n",
      "2024-05-22 16:14:23.494528278 [E:onnxruntime:Default, env.cc:254 ThreadMain] pthread_setaffinity_np failed for thread: 44256, index: 27, mask: {56, 57, }, error code: 22 error msg: Invalid argument. Specify the number of threads explicitly so the affinity is not set.\n",
      "2024-05-22 16:14:23.511090119 [E:onnxruntime:Default, env.cc:254 ThreadMain] pthread_setaffinity_np failed for thread: 44259, index: 30, mask: {62, 63, }, error code: 22 error msg: Invalid argument. Specify the number of threads explicitly so the affinity is not set.\n"
     ]
    }
   ],
   "source": [
    "ort_session = onnxruntime.InferenceSession('GNN_1.onnx')"
   ]
  },
  {
   "cell_type": "code",
   "execution_count": 102,
   "id": "940bec6a-e9d6-41bc-96b8-8f5ddc17a825",
   "metadata": {},
   "outputs": [
    {
     "data": {
      "text/plain": [
       "[2, 'input_edges_dynamic_axes_1']"
      ]
     },
     "execution_count": 102,
     "metadata": {},
     "output_type": "execute_result"
    }
   ],
   "source": [
    "ort_session.get_inputs()[1].shape"
   ]
  },
  {
   "cell_type": "code",
   "execution_count": 122,
   "id": "5ebb10af-aa44-4e8c-9b5e-4bf9508999dd",
   "metadata": {},
   "outputs": [
    {
     "data": {
      "text/plain": [
       "tensor(47)"
      ]
     },
     "execution_count": 122,
     "metadata": {},
     "output_type": "execute_result"
    }
   ],
   "source": [
    "dgnn[5].pred_edges_emb.max()"
   ]
  },
  {
   "cell_type": "code",
   "execution_count": 126,
   "id": "ddc15500-4d80-40fd-adab-03ced0f80b0c",
   "metadata": {},
   "outputs": [
    {
     "data": {
      "text/plain": [
       "torch.Size([44, 11])"
      ]
     },
     "execution_count": 126,
     "metadata": {},
     "output_type": "execute_result"
    }
   ],
   "source": [
    "d[5].x.shape"
   ]
  },
  {
   "cell_type": "code",
   "execution_count": 129,
   "id": "3d0dfbab-ed83-4531-9b36-050bad9030e5",
   "metadata": {},
   "outputs": [],
   "source": [
    "ort_inputs = {'input_tk': np.array(dgnn[56].x.float()), 'input_edges': np.array(dgnn[56].pred_edges_emb)}\n",
    "ort_outs = ort_session.run(None, ort_inputs)"
   ]
  },
  {
   "cell_type": "code",
   "execution_count": null,
   "id": "1fde8ce6-8c80-4086-848d-e2c74b5015c8",
   "metadata": {},
   "outputs": [],
   "source": []
  },
  {
   "cell_type": "code",
   "execution_count": 136,
   "id": "20832f98-876e-463c-932a-87febe136d14",
   "metadata": {},
   "outputs": [
    {
     "data": {
      "text/plain": [
       "array([0.00045452, 0.00036537, 0.00034495, ..., 0.00037103, 0.00041873,\n",
       "       0.00034859], dtype=float32)"
      ]
     },
     "execution_count": 136,
     "metadata": {},
     "output_type": "execute_result"
    }
   ],
   "source": [
    "ort_outs[0]\n",
    "1/(1 + np.exp(-ort_outs[0])) "
   ]
  },
  {
   "cell_type": "code",
   "execution_count": 91,
   "id": "5c6de755-a422-4913-b895-1de13d86be8d",
   "metadata": {},
   "outputs": [
    {
     "data": {
      "text/plain": [
       "Data(x=[23, 11], true_edges=[2, 14], pred_edges_emb=[2, 302], distances_emb=[302], edges_y=[302], edge_weight=[302])"
      ]
     },
     "execution_count": 91,
     "metadata": {},
     "output_type": "execute_result"
    }
   ],
   "source": [
    "dgnn[0]"
   ]
  },
  {
   "cell_type": "code",
   "execution_count": null,
   "id": "23ffe0d6-8a84-452e-8793-d60b948b1455",
   "metadata": {},
   "outputs": [],
   "source": []
  },
  {
   "cell_type": "markdown",
   "id": "8392a433-13de-47fe-a0a1-23b8bf95a17e",
   "metadata": {},
   "source": [
    "### Load Embedding model"
   ]
  },
  {
   "cell_type": "code",
   "execution_count": 56,
   "id": "573b7e83-2718-400b-98ba-a6c653616e13",
   "metadata": {
    "collapsed": true,
    "jupyter": {
     "outputs_hidden": true
    },
    "tags": []
   },
   "outputs": [
    {
     "name": "stderr",
     "output_type": "stream",
     "text": [
      "2024-05-22 14:46:00.490341717 [E:onnxruntime:Default, env.cc:254 ThreadMain] pthread_setaffinity_np failed for thread: 18056, index: 0, mask: {2, 3, }, error code: 22 error msg: Invalid argument. Specify the number of threads explicitly so the affinity is not set.\n",
      "2024-05-22 14:46:00.490394442 [E:onnxruntime:Default, env.cc:254 ThreadMain] pthread_setaffinity_np failed for thread: 18057, index: 1, mask: {4, 5, }, error code: 22 error msg: Invalid argument. Specify the number of threads explicitly so the affinity is not set.\n",
      "2024-05-22 14:46:00.490533471 [E:onnxruntime:Default, env.cc:254 ThreadMain] pthread_setaffinity_np failed for thread: 18059, index: 3, mask: {8, 9, }, error code: 22 error msg: Invalid argument. Specify the number of threads explicitly so the affinity is not set.\n",
      "2024-05-22 14:46:00.490664560 [E:onnxruntime:Default, env.cc:254 ThreadMain] pthread_setaffinity_np failed for thread: 18060, index: 4, mask: {10, 11, }, error code: 22 error msg: Invalid argument. Specify the number of threads explicitly so the affinity is not set.\n",
      "2024-05-22 14:46:00.490703070 [E:onnxruntime:Default, env.cc:254 ThreadMain] pthread_setaffinity_np failed for thread: 18058, index: 2, mask: {6, 7, }, error code: 22 error msg: Invalid argument. Specify the number of threads explicitly so the affinity is not set.\n",
      "2024-05-22 14:46:00.490749413 [E:onnxruntime:Default, env.cc:254 ThreadMain] pthread_setaffinity_np failed for thread: 18061, index: 5, mask: {12, 13, }, error code: 22 error msg: Invalid argument. Specify the number of threads explicitly so the affinity is not set.\n",
      "2024-05-22 14:46:00.490908907 [E:onnxruntime:Default, env.cc:254 ThreadMain] pthread_setaffinity_np failed for thread: 18062, index: 6, mask: {14, 15, }, error code: 22 error msg: Invalid argument. Specify the number of threads explicitly so the affinity is not set.\n",
      "2024-05-22 14:46:00.490937757 [E:onnxruntime:Default, env.cc:254 ThreadMain] pthread_setaffinity_np failed for thread: 18063, index: 7, mask: {16, 17, }, error code: 22 error msg: Invalid argument. Specify the number of threads explicitly so the affinity is not set.\n",
      "2024-05-22 14:46:00.512093585 [E:onnxruntime:Default, env.cc:254 ThreadMain] pthread_setaffinity_np failed for thread: 18064, index: 8, mask: {18, 19, }, error code: 22 error msg: Invalid argument. Specify the number of threads explicitly so the affinity is not set.\n",
      "2024-05-22 14:46:00.514733026 [E:onnxruntime:Default, env.cc:254 ThreadMain] pthread_setaffinity_np failed for thread: 18065, index: 9, mask: {20, 21, }, error code: 22 error msg: Invalid argument. Specify the number of threads explicitly so the affinity is not set.\n",
      "2024-05-22 14:46:00.514851533 [E:onnxruntime:Default, env.cc:254 ThreadMain] pthread_setaffinity_np failed for thread: 18066, index: 10, mask: {22, 23, }, error code: 22 error msg: Invalid argument. Specify the number of threads explicitly so the affinity is not set.\n",
      "2024-05-22 14:46:00.514895194 [E:onnxruntime:Default, env.cc:254 ThreadMain] pthread_setaffinity_np failed for thread: 18067, index: 11, mask: {24, 25, }, error code: 22 error msg: Invalid argument. Specify the number of threads explicitly so the affinity is not set.\n",
      "2024-05-22 14:46:00.514943156 [E:onnxruntime:Default, env.cc:254 ThreadMain] pthread_setaffinity_np failed for thread: 18068, index: 12, mask: {26, 27, }, error code: 22 error msg: Invalid argument. Specify the number of threads explicitly so the affinity is not set.\n",
      "2024-05-22 14:46:00.515013543 [E:onnxruntime:Default, env.cc:254 ThreadMain] pthread_setaffinity_np failed for thread: 18069, index: 13, mask: {28, 29, }, error code: 22 error msg: Invalid argument. Specify the number of threads explicitly so the affinity is not set.\n",
      "2024-05-22 14:46:00.515099331 [E:onnxruntime:Default, env.cc:254 ThreadMain] pthread_setaffinity_np failed for thread: 18070, index: 14, mask: {30, 31, }, error code: 22 error msg: Invalid argument. Specify the number of threads explicitly so the affinity is not set.\n",
      "2024-05-22 14:46:00.525119461 [E:onnxruntime:Default, env.cc:254 ThreadMain] pthread_setaffinity_np failed for thread: 18073, index: 17, mask: {36, 37, }, error code: 22 error msg: Invalid argument. Specify the number of threads explicitly so the affinity is not set.\n",
      "2024-05-22 14:46:00.526132075 [E:onnxruntime:Default, env.cc:254 ThreadMain] pthread_setaffinity_np failed for thread: 18082, index: 26, mask: {54, 55, }, error code: 22 error msg: Invalid argument. Specify the number of threads explicitly so the affinity is not set.\n",
      "2024-05-22 14:46:00.534113411 [E:onnxruntime:Default, env.cc:254 ThreadMain] pthread_setaffinity_np failed for thread: 18081, index: 25, mask: {52, 53, }, error code: 22 error msg: Invalid argument. Specify the number of threads explicitly so the affinity is not set.\n",
      "2024-05-22 14:46:00.535112848 [E:onnxruntime:Default, env.cc:254 ThreadMain] pthread_setaffinity_np failed for thread: 18074, index: 18, mask: {38, 39, }, error code: 22 error msg: Invalid argument. Specify the number of threads explicitly so the affinity is not set.\n",
      "2024-05-22 14:46:00.538981101 [E:onnxruntime:Default, env.cc:254 ThreadMain] pthread_setaffinity_np failed for thread: 18087, index: 31, mask: {64, 65, }, error code: 22 error msg: Invalid argument. Specify the number of threads explicitly so the affinity is not set.\n",
      "2024-05-22 14:46:00.544114827 [E:onnxruntime:Default, env.cc:254 ThreadMain] pthread_setaffinity_np failed for thread: 18079, index: 23, mask: {48, 49, }, error code: 22 error msg: Invalid argument. Specify the number of threads explicitly so the affinity is not set.\n",
      "2024-05-22 14:46:00.549522185 [E:onnxruntime:Default, env.cc:254 ThreadMain] pthread_setaffinity_np failed for thread: 18086, index: 30, mask: {62, 63, }, error code: 22 error msg: Invalid argument. Specify the number of threads explicitly so the affinity is not set.\n",
      "2024-05-22 14:46:00.563054321 [E:onnxruntime:Default, env.cc:254 ThreadMain] pthread_setaffinity_np failed for thread: 18091, index: 35, mask: {72, 73, }, error code: 22 error msg: Invalid argument. Specify the number of threads explicitly so the affinity is not set.\n",
      "2024-05-22 14:46:00.563134359 [E:onnxruntime:Default, env.cc:254 ThreadMain] pthread_setaffinity_np failed for thread: 18072, index: 16, mask: {34, 35, }, error code: 22 error msg: Invalid argument. Specify the number of threads explicitly so the affinity is not set.\n",
      "2024-05-22 14:46:00.563007684 [E:onnxruntime:Default, env.cc:254 ThreadMain] pthread_setaffinity_np failed for thread: 18092, index: 36, mask: {74, 75, }, error code: 22 error msg: Invalid argument. Specify the number of threads explicitly so the affinity is not set.\n",
      "2024-05-22 14:46:00.563016275 [E:onnxruntime:Default, env.cc:254 ThreadMain] pthread_setaffinity_np failed for thread: 18089, index: 33, mask: {68, 69, }, error code: 22 error msg: Invalid argument. Specify the number of threads explicitly so the affinity is not set.\n",
      "2024-05-22 14:46:00.563033892 [E:onnxruntime:Default, env.cc:254 ThreadMain] pthread_setaffinity_np failed for thread: 18088, index: 32, mask: {66, 67, }, error code: 22 error msg: Invalid argument. Specify the number of threads explicitly so the affinity is not set.\n",
      "2024-05-22 14:46:00.563007688 [E:onnxruntime:Default, env.cc:254 ThreadMain] pthread_setaffinity_np failed for thread: 18085, index: 29, mask: {60, 61, }, error code: 22 error msg: Invalid argument. Specify the number of threads explicitly so the affinity is not set.\n",
      "2024-05-22 14:46:00.563043245 [E:onnxruntime:Default, env.cc:254 ThreadMain] pthread_setaffinity_np failed for thread: 18090, index: 34, mask: {70, 71, }, error code: 22 error msg: Invalid argument. Specify the number of threads explicitly so the affinity is not set.\n",
      "2024-05-22 14:46:00.563021024 [E:onnxruntime:Default, env.cc:254 ThreadMain] pthread_setaffinity_np failed for thread: 18084, index: 28, mask: {58, 59, }, error code: 22 error msg: Invalid argument. Specify the number of threads explicitly so the affinity is not set.\n",
      "2024-05-22 14:46:00.563049630 [E:onnxruntime:Default, env.cc:254 ThreadMain] pthread_setaffinity_np failed for thread: 18083, index: 27, mask: {56, 57, }, error code: 22 error msg: Invalid argument. Specify the number of threads explicitly so the affinity is not set.\n",
      "2024-05-22 14:46:00.563031206 [E:onnxruntime:Default, env.cc:254 ThreadMain] pthread_setaffinity_np failed for thread: 18080, index: 24, mask: {50, 51, }, error code: 22 error msg: Invalid argument. Specify the number of threads explicitly so the affinity is not set.\n",
      "2024-05-22 14:46:00.584101440 [E:onnxruntime:Default, env.cc:254 ThreadMain] pthread_setaffinity_np failed for thread: 18071, index: 15, mask: {32, 33, }, error code: 22 error msg: Invalid argument. Specify the number of threads explicitly so the affinity is not set.\n"
     ]
    }
   ],
   "source": [
    "ort_session = onnxruntime.InferenceSession('EMB_1.onnx')"
   ]
  },
  {
   "cell_type": "code",
   "execution_count": 60,
   "id": "c0455faa-b6bf-46cc-93a8-bd8d92868e1b",
   "metadata": {},
   "outputs": [],
   "source": [
    "input_name = ort_session.get_inputs()[0].name"
   ]
  },
  {
   "cell_type": "code",
   "execution_count": 67,
   "id": "69d41648-6820-4abc-841d-b1f1d9213c5f",
   "metadata": {},
   "outputs": [
    {
     "data": {
      "text/plain": [
       "(51, 11)"
      ]
     },
     "execution_count": 67,
     "metadata": {},
     "output_type": "execute_result"
    }
   ],
   "source": [
    "np.array(d[15].x.float()).shape"
   ]
  },
  {
   "cell_type": "code",
   "execution_count": 83,
   "id": "cefe9838-9703-49c2-8912-6034c7ef96a6",
   "metadata": {},
   "outputs": [],
   "source": [
    "testinput = np.array(torch.tensor([[0,1,2,3,4,5,6,7,8,9,10]]).float())"
   ]
  },
  {
   "cell_type": "code",
   "execution_count": 64,
   "id": "1abac2ab-de63-4e7d-a25d-070733273320",
   "metadata": {},
   "outputs": [],
   "source": [
    "ort_inputs = {input_name: np.array(d[15].x.float())}"
   ]
  },
  {
   "cell_type": "code",
   "execution_count": 84,
   "id": "4c58615c-205c-4a17-b2ca-031f19f102e1",
   "metadata": {},
   "outputs": [],
   "source": [
    "ort_inputs = {input_name: testinput}"
   ]
  },
  {
   "cell_type": "code",
   "execution_count": 85,
   "id": "980f0333-b849-43ce-abee-f9a8c7543c8c",
   "metadata": {},
   "outputs": [],
   "source": [
    "ort_outs = ort_session.run(None, ort_inputs)"
   ]
  },
  {
   "cell_type": "code",
   "execution_count": 66,
   "id": "e437c4ce-cec6-45f7-88f7-fd654cfbdc0e",
   "metadata": {},
   "outputs": [
    {
     "data": {
      "text/plain": [
       "(51, 16)"
      ]
     },
     "execution_count": 66,
     "metadata": {},
     "output_type": "execute_result"
    }
   ],
   "source": [
    "ort_outs[0].shape"
   ]
  },
  {
   "cell_type": "code",
   "execution_count": 14,
   "id": "b363e760-f74a-489e-b26a-86165195954c",
   "metadata": {},
   "outputs": [
    {
     "data": {
      "text/plain": [
       "int"
      ]
     },
     "execution_count": 14,
     "metadata": {},
     "output_type": "execute_result"
    }
   ],
   "source": [
    "type(ort_outs[0].shape[0])"
   ]
  },
  {
   "cell_type": "code",
   "execution_count": 86,
   "id": "dc0b745f-ede5-4f29-b9ed-636865a2a973",
   "metadata": {},
   "outputs": [
    {
     "data": {
      "text/plain": [
       "array([[ 0.40249282,  1.0423677 , -0.06209265, -0.1716794 , -0.23400308,\n",
       "        -1.0785693 ,  1.0211241 , -0.08025236, -0.5017265 ,  0.07464715,\n",
       "        -1.0424998 , -0.01701241,  0.87342536,  0.7729091 , -1.3853618 ,\n",
       "        -0.30868497]], dtype=float32)"
      ]
     },
     "execution_count": 86,
     "metadata": {},
     "output_type": "execute_result"
    }
   ],
   "source": [
    "ort_outs[0]"
   ]
  },
  {
   "cell_type": "code",
   "execution_count": null,
   "id": "e284b466-2172-465b-963e-742975c3705a",
   "metadata": {},
   "outputs": [],
   "source": [
    "input_name"
   ]
  },
  {
   "cell_type": "code",
   "execution_count": 8,
   "id": "47d386e1-924e-42b9-9237-ecc2dafe4d6a",
   "metadata": {},
   "outputs": [
    {
     "data": {
      "text/plain": [
       "['N', 11, 'n_sv']"
      ]
     },
     "execution_count": 8,
     "metadata": {},
     "output_type": "execute_result"
    }
   ],
   "source": [
    "ort_session.get_inputs()[4].shape"
   ]
  },
  {
   "cell_type": "code",
   "execution_count": 4,
   "id": "88a526d7-8f17-4006-a6c0-0c55c9fa0230",
   "metadata": {},
   "outputs": [
    {
     "data": {
      "text/plain": [
       "['N', 1]"
      ]
     },
     "execution_count": 4,
     "metadata": {},
     "output_type": "execute_result"
    }
   ],
   "source": [
    "ort_session.get_outputs()[0].shape"
   ]
  },
  {
   "cell_type": "code",
   "execution_count": 2,
   "id": "899af5f5-a72c-4cb1-bd26-30349c2e7f7e",
   "metadata": {},
   "outputs": [
    {
     "name": "stderr",
     "output_type": "stream",
     "text": [
      "2024-05-22 17:20:28.488666628 [E:onnxruntime:Default, env.cc:254 ThreadMain] pthread_setaffinity_np failed for thread: 15848, index: 6, mask: {14, 15, }, error code: 22 error msg: Invalid argument. Specify the number of threads explicitly so the affinity is not set.\n",
      "2024-05-22 17:20:28.488663472 [E:onnxruntime:Default, env.cc:254 ThreadMain] pthread_setaffinity_np failed for thread: 15846, index: 4, mask: {10, 11, }, error code: 22 error msg: Invalid argument. Specify the number of threads explicitly so the affinity is not set.\n",
      "2024-05-22 17:20:28.489013500 [E:onnxruntime:Default, env.cc:254 ThreadMain] pthread_setaffinity_np failed for thread: 15851, index: 9, mask: {20, 21, }, error code: 22 error msg: Invalid argument. Specify the number of threads explicitly so the affinity is not set.\n",
      "2024-05-22 17:20:28.488894260 [E:onnxruntime:Default, env.cc:254 ThreadMain] pthread_setaffinity_np failed for thread: 15850, index: 8, mask: {18, 19, }, error code: 22 error msg: Invalid argument. Specify the number of threads explicitly so the affinity is not set.\n",
      "2024-05-22 17:20:28.488650467 [E:onnxruntime:Default, env.cc:254 ThreadMain] pthread_setaffinity_np failed for thread: 15844, index: 2, mask: {6, 7, }, error code: 22 error msg: Invalid argument. Specify the number of threads explicitly so the affinity is not set.\n",
      "2024-05-22 17:20:28.488656533 [E:onnxruntime:Default, env.cc:254 ThreadMain] pthread_setaffinity_np failed for thread: 15842, index: 0, mask: {2, 3, }, error code: 22 error msg: Invalid argument. Specify the number of threads explicitly so the affinity is not set.\n",
      "2024-05-22 17:20:28.508597770 [E:onnxruntime:Default, env.cc:254 ThreadMain] pthread_setaffinity_np failed for thread: 15856, index: 14, mask: {30, 31, }, error code: 22 error msg: Invalid argument. Specify the number of threads explicitly so the affinity is not set.\n",
      "2024-05-22 17:20:28.508597288 [E:onnxruntime:Default, env.cc:254 ThreadMain] pthread_setaffinity_np failed for thread: 15855, index: 13, mask: {28, 29, }, error code: 22 error msg: Invalid argument. Specify the number of threads explicitly so the affinity is not set.\n",
      "2024-05-22 17:20:28.488664701 [E:onnxruntime:Default, env.cc:254 ThreadMain] pthread_setaffinity_np failed for thread: 15845, index: 3, mask: {8, 9, }, error code: 22 error msg: Invalid argument. Specify the number of threads explicitly so the affinity is not set.\n",
      "2024-05-22 17:20:28.488672632 [E:onnxruntime:Default, env.cc:254 ThreadMain] pthread_setaffinity_np failed for thread: 15847, index: 5, mask: {12, 13, }, error code: 22 error msg: Invalid argument. Specify the number of threads explicitly so the affinity is not set.\n",
      "2024-05-22 17:20:28.508651922 [E:onnxruntime:Default, env.cc:254 ThreadMain] pthread_setaffinity_np failed for thread: 15857, index: 15, mask: {32, 33, }, error code: 22 error msg: Invalid argument. Specify the number of threads explicitly so the affinity is not set.\n",
      "2024-05-22 17:20:28.488667285 [E:onnxruntime:Default, env.cc:254 ThreadMain] pthread_setaffinity_np failed for thread: 15843, index: 1, mask: {4, 5, }, error code: 22 error msg: Invalid argument. Specify the number of threads explicitly so the affinity is not set.\n",
      "2024-05-22 17:20:28.509286549 [E:onnxruntime:Default, env.cc:254 ThreadMain] pthread_setaffinity_np failed for thread: 15871, index: 29, mask: {60, 61, }, error code: 22 error msg: Invalid argument. Specify the number of threads explicitly so the affinity is not set.\n",
      "2024-05-22 17:20:28.509296085 [E:onnxruntime:Default, env.cc:254 ThreadMain] pthread_setaffinity_np failed for thread: 15876, index: 34, mask: {70, 71, }, error code: 22 error msg: Invalid argument. Specify the number of threads explicitly so the affinity is not set.\n",
      "2024-05-22 17:20:28.511603898 [E:onnxruntime:Default, env.cc:254 ThreadMain] pthread_setaffinity_np failed for thread: 15865, index: 23, mask: {48, 49, }, error code: 22 error msg: Invalid argument. Specify the number of threads explicitly so the affinity is not set.\n",
      "2024-05-22 17:20:28.509561175 [E:onnxruntime:Default, env.cc:254 ThreadMain] pthread_setaffinity_np failed for thread: 15870, index: 28, mask: {58, 59, }, error code: 22 error msg: Invalid argument. Specify the number of threads explicitly so the affinity is not set.\n",
      "2024-05-22 17:20:28.509372786 [E:onnxruntime:Default, env.cc:254 ThreadMain] pthread_setaffinity_np failed for thread: 15860, index: 18, mask: {38, 39, }, error code: 22 error msg: Invalid argument. Specify the number of threads explicitly so the affinity is not set.\n",
      "2024-05-22 17:20:28.511674660 [E:onnxruntime:Default, env.cc:254 ThreadMain] pthread_setaffinity_np failed for thread: 15866, index: 24, mask: {50, 51, }, error code: 22 error msg: Invalid argument. Specify the number of threads explicitly so the affinity is not set.\n",
      "2024-05-22 17:20:28.511742516 [E:onnxruntime:Default, env.cc:254 ThreadMain] pthread_setaffinity_np failed for thread: 15874, index: 32, mask: {66, 67, }, error code: 22 error msg: Invalid argument. Specify the number of threads explicitly so the affinity is not set.\n",
      "2024-05-22 17:20:28.511764252 [E:onnxruntime:Default, env.cc:254 ThreadMain] pthread_setaffinity_np failed for thread: 15861, index: 19, mask: {40, 41, }, error code: 22 error msg: Invalid argument. Specify the number of threads explicitly so the affinity is not set.\n",
      "2024-05-22 17:20:28.511732178 [E:onnxruntime:Default, env.cc:254 ThreadMain] pthread_setaffinity_np failed for thread: 15873, index: 31, mask: {64, 65, }, error code: 22 error msg: Invalid argument. Specify the number of threads explicitly so the affinity is not set.\n",
      "2024-05-22 17:20:28.511754189 [E:onnxruntime:Default, env.cc:254 ThreadMain] pthread_setaffinity_np failed for thread: 15878, index: 36, mask: {74, 75, }, error code: 22 error msg: Invalid argument. Specify the number of threads explicitly so the affinity is not set.\n",
      "2024-05-22 17:20:28.511720469 [E:onnxruntime:Default, env.cc:254 ThreadMain] pthread_setaffinity_np failed for thread: 15875, index: 33, mask: {68, 69, }, error code: 22 error msg: Invalid argument. Specify the number of threads explicitly so the affinity is not set.\n",
      "2024-05-22 17:20:28.517543523 [E:onnxruntime:Default, env.cc:254 ThreadMain] pthread_setaffinity_np failed for thread: 15862, index: 20, mask: {42, 43, }, error code: 22 error msg: Invalid argument. Specify the number of threads explicitly so the affinity is not set.\n",
      "2024-05-22 17:20:28.530424225 [E:onnxruntime:Default, env.cc:254 ThreadMain] pthread_setaffinity_np failed for thread: 15868, index: 26, mask: {54, 55, }, error code: 22 error msg: Invalid argument. Specify the number of threads explicitly so the affinity is not set.\n",
      "2024-05-22 17:20:28.542549545 [E:onnxruntime:Default, env.cc:254 ThreadMain] pthread_setaffinity_np failed for thread: 15877, index: 35, mask: {72, 73, }, error code: 22 error msg: Invalid argument. Specify the number of threads explicitly so the affinity is not set.\n",
      "2024-05-22 17:20:28.530584456 [E:onnxruntime:Default, env.cc:254 ThreadMain] pthread_setaffinity_np failed for thread: 15867, index: 25, mask: {52, 53, }, error code: 22 error msg: Invalid argument. Specify the number of threads explicitly so the affinity is not set.\n",
      "2024-05-22 17:20:28.564605002 [E:onnxruntime:Default, env.cc:254 ThreadMain] pthread_setaffinity_np failed for thread: 15864, index: 22, mask: {46, 47, }, error code: 22 error msg: Invalid argument. Specify the number of threads explicitly so the affinity is not set.\n",
      "2024-05-22 17:20:28.576481538 [E:onnxruntime:Default, env.cc:254 ThreadMain] pthread_setaffinity_np failed for thread: 15872, index: 30, mask: {62, 63, }, error code: 22 error msg: Invalid argument. Specify the number of threads explicitly so the affinity is not set.\n",
      "2024-05-22 17:20:28.564585068 [E:onnxruntime:Default, env.cc:254 ThreadMain] pthread_setaffinity_np failed for thread: 15863, index: 21, mask: {44, 45, }, error code: 22 error msg: Invalid argument. Specify the number of threads explicitly so the affinity is not set.\n",
      "2024-05-22 17:20:28.562570404 [E:onnxruntime:Default, env.cc:254 ThreadMain] pthread_setaffinity_np failed for thread: 15859, index: 17, mask: {36, 37, }, error code: 22 error msg: Invalid argument. Specify the number of threads explicitly so the affinity is not set.\n",
      "2024-05-22 17:20:28.572550982 [E:onnxruntime:Default, env.cc:254 ThreadMain] pthread_setaffinity_np failed for thread: 15858, index: 16, mask: {34, 35, }, error code: 22 error msg: Invalid argument. Specify the number of threads explicitly so the affinity is not set.\n",
      "2024-05-22 17:20:28.561543912 [E:onnxruntime:Default, env.cc:254 ThreadMain] pthread_setaffinity_np failed for thread: 15869, index: 27, mask: {56, 57, }, error code: 22 error msg: Invalid argument. Specify the number of threads explicitly so the affinity is not set.\n"
     ]
    }
   ],
   "source": [
    "ort_session = onnxruntime.InferenceSession('particle-net.onnx')"
   ]
  },
  {
   "cell_type": "code",
   "execution_count": 11,
   "id": "e4599c71-c799-42e5-9567-eec2d7df12ab",
   "metadata": {},
   "outputs": [],
   "source": [
    "d = torch.load(\"Datasets/stop_M600_588_ct200_2018.pt\")"
   ]
  },
  {
   "cell_type": "code",
   "execution_count": 12,
   "id": "ddf04b25-3956-4489-a9af-9dc718ca15dd",
   "metadata": {},
   "outputs": [
    {
     "data": {
      "text/plain": [
       "Data(x=[41, 11], true_edges=[2, 2])"
      ]
     },
     "execution_count": 12,
     "metadata": {},
     "output_type": "execute_result"
    }
   ],
   "source": [
    "d[0]"
   ]
  },
  {
   "cell_type": "code",
   "execution_count": 19,
   "id": "a8aa2867-0618-4354-aa70-3a75b2030536",
   "metadata": {},
   "outputs": [],
   "source": [
    "nt = d[0].x.unsqueeze(0)"
   ]
  },
  {
   "cell_type": "code",
   "execution_count": 23,
   "id": "975a33de-3536-442d-851d-7f8affc062c7",
   "metadata": {},
   "outputs": [
    {
     "data": {
      "text/plain": [
       "torch.Size([41, 11])"
      ]
     },
     "execution_count": 23,
     "metadata": {},
     "output_type": "execute_result"
    }
   ],
   "source": [
    "nt.squeeze(0).shape"
   ]
  },
  {
   "cell_type": "code",
   "execution_count": null,
   "id": "03415665-0164-4ea0-882d-bbbf8fc99c42",
   "metadata": {},
   "outputs": [],
   "source": []
  }
 ],
 "metadata": {
  "kernelspec": {
   "display_name": "Python [conda env:anaconda3-gnn_cpu]",
   "language": "python",
   "name": "conda-env-anaconda3-gnn_cpu-py"
  },
  "language_info": {
   "codemirror_mode": {
    "name": "ipython",
    "version": 3
   },
   "file_extension": ".py",
   "mimetype": "text/x-python",
   "name": "python",
   "nbconvert_exporter": "python",
   "pygments_lexer": "ipython3",
   "version": "3.9.19"
  }
 },
 "nbformat": 4,
 "nbformat_minor": 5
}
